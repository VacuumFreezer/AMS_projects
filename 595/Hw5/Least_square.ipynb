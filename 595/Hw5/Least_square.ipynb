{
 "cells": [
  {
   "cell_type": "markdown",
   "metadata": {},
   "source": [
    "### Least square problem"
   ]
  },
  {
   "cell_type": "code",
   "execution_count": 5,
   "metadata": {},
   "outputs": [],
   "source": [
    "import numpy as np\n",
    "import scipy.linalg as lin\n",
    "import pandas as pd"
   ]
  },
  {
   "cell_type": "code",
   "execution_count": 6,
   "metadata": {},
   "outputs": [],
   "source": [
    "feature = pd.DataFrame({\n",
    "    'square footage':[2100, 2500, 1800, 2200],\n",
    "    'bedroom numbvers':[3, 4, 2, 3],\n",
    "    'age':[20, 15, 30, 25]\n",
    "})\n",
    "\n",
    "price = pd.DataFrame({\n",
    "    'price':[460, 540, 330, 400]\n",
    "})"
   ]
  },
  {
   "cell_type": "code",
   "execution_count": 11,
   "metadata": {},
   "outputs": [
    {
     "name": "stdout",
     "output_type": "stream",
     "text": [
      "The weight of features are \n",
      " [[    3.2875]\n",
      " [-1628.75  ]\n",
      " [  -77.75  ]]\n"
     ]
    }
   ],
   "source": [
    "X = feature.values\n",
    "y = price.values\n",
    "# b is the coefficient; residual is the distance of y - Xb\n",
    "# rank is rank(X); s is singular value of X\n",
    "b, residual, rank, s = lin.lstsq(X, y)\n",
    "print('The weight of features are \\n', b)"
   ]
  },
  {
   "cell_type": "code",
   "execution_count": 15,
   "metadata": {},
   "outputs": [
    {
     "name": "stdout",
     "output_type": "stream",
     "text": [
      "The price of test sample is 1448.75\n"
     ]
    }
   ],
   "source": [
    "test_sample = pd.DataFrame({\n",
    "    'square footage':[2400],\n",
    "    'bedroom numbvers':[3],\n",
    "    'age':[20]\n",
    "})\n",
    "\n",
    "prediction = np.dot(test_sample.values, b)\n",
    "print('The price of test sample is', round(prediction.item(), 2))"
   ]
  },
  {
   "cell_type": "markdown",
   "metadata": {},
   "source": [
    "Here the least-square model finds the best-fitting model that minimize the mean squared error between predicted values and observation values. For a feature matrix that is not square, which means the number of constraints is larger than variables, the direct solving method fails."
   ]
  }
 ],
 "metadata": {
  "kernelspec": {
   "display_name": "madminer",
   "language": "python",
   "name": "python3"
  },
  "language_info": {
   "codemirror_mode": {
    "name": "ipython",
    "version": 3
   },
   "file_extension": ".py",
   "mimetype": "text/x-python",
   "name": "python",
   "nbconvert_exporter": "python",
   "pygments_lexer": "ipython3",
   "version": "3.10.13"
  }
 },
 "nbformat": 4,
 "nbformat_minor": 2
}
