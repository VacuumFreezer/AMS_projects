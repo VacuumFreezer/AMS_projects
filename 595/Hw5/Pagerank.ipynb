{
 "cells": [
  {
   "cell_type": "markdown",
   "metadata": {},
   "source": [
    "## Hw5 \n",
    "### Page rank"
   ]
  },
  {
   "cell_type": "code",
   "execution_count": 16,
   "metadata": {},
   "outputs": [],
   "source": [
    "import numpy as np\n",
    "import scipy.linalg as lin"
   ]
  },
  {
   "cell_type": "code",
   "execution_count": 22,
   "metadata": {},
   "outputs": [
    {
     "name": "stdout",
     "output_type": "stream",
     "text": [
      "The dominant eigenvalue is  [ 1.  +0.j         -0.25+0.14433757j -0.25-0.14433757j -0.5 +0.j        ]\n",
      "The dominant eigenvector is  [0.30460385+0.j 0.40613847+0.j 0.6092077 +0.j 0.6092077 +0.j]\n"
     ]
    }
   ],
   "source": [
    "M = np.array([[0, 0, 1/2, 0],\n",
    "              [1/3, 0, 0, 1/2],\n",
    "              [1/3, 1/2, 0, 1/2],\n",
    "              [1/3, 1/2, 1/2, 0]], dtype=np.float128)\n",
    "\n",
    "eig, vec = lin.eig(M)\n",
    "print('The dominant eigenvalue is ', eig[0])\n",
    "print('The dominant eigenvector is ', vec.T[0]) # Eigenvectors are columns."
   ]
  },
  {
   "cell_type": "code",
   "execution_count": 18,
   "metadata": {},
   "outputs": [
    {
     "name": "stdout",
     "output_type": "stream",
     "text": [
      "Iteration converges to  [0.63157895+0.j 0.84210526+0.j 1.26315789+0.j 1.26315789+0.j]\n"
     ]
    }
   ],
   "source": [
    "initial = np.array([1, 1, 1, 1], dtype=np.complex128)\n",
    "iter = initial\n",
    "last_iter = np.zeros(4, dtype=np.complex128)\n",
    "theshold = 1e-8\n",
    "# The difference between two iterations is smaller than the theshold\n",
    "while np.linalg.norm(last_iter - iter, ord=1) > theshold:\n",
    "\n",
    "    last_iter = iter\n",
    "    iter = np.dot(M, iter)\n",
    "\n",
    "print('Iteration converges to ', iter)"
   ]
  },
  {
   "cell_type": "code",
   "execution_count": 25,
   "metadata": {},
   "outputs": [
    {
     "name": "stdout",
     "output_type": "stream",
     "text": [
      "The normalized dominant eigenvector is [0.15789474+0.j 0.21052632+0.j 0.31578947+0.j 0.31578947+0.j]\n",
      "The normalized iteration result is [0.15789474+0.j 0.21052632+0.j 0.31578947+0.j 0.31578947+0.j]\n"
     ]
    }
   ],
   "source": [
    "nor_true_vec = vec.T[0] / np.linalg.norm(vec.T[0], ord=1)\n",
    "nor_convergence = iter / np.linalg.norm(iter, ord=1)\n",
    "print('The normalized dominant eigenvector is', nor_true_vec)\n",
    "print('The normalized iteration result is', nor_convergence)"
   ]
  },
  {
   "cell_type": "markdown",
   "metadata": {},
   "source": [
    "After normalization, the eigenvector correspoonding to one can be interpreted as a probability distribution: the entry $v_i$ is the probablity a user is on page $i$ at this moment. Also, this eigenvector is a steady state, which means after enough time the probability distribution will converge to this eigenvector. The absolute value of entries judges the amount of users on that page, thus can define the rank of web pages. For this particular M, the last two pages are of the same highest rank."
   ]
  }
 ],
 "metadata": {
  "kernelspec": {
   "display_name": "madminer",
   "language": "python",
   "name": "python3"
  },
  "language_info": {
   "codemirror_mode": {
    "name": "ipython",
    "version": 3
   },
   "file_extension": ".py",
   "mimetype": "text/x-python",
   "name": "python",
   "nbconvert_exporter": "python",
   "pygments_lexer": "ipython3",
   "version": "3.10.13"
  }
 },
 "nbformat": 4,
 "nbformat_minor": 2
}
