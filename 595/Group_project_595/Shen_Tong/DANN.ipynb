{
 "cells": [
  {
   "cell_type": "code",
   "execution_count": 1,
   "metadata": {},
   "outputs": [
    {
     "name": "stdout",
     "output_type": "stream",
     "text": [
      "2.5.1\n"
     ]
    }
   ],
   "source": [
    "# Check pytorch version\n",
    "import torch\n",
    "\n",
    "print(torch.__version__)"
   ]
  },
  {
   "cell_type": "code",
   "execution_count": 2,
   "metadata": {},
   "outputs": [
    {
     "name": "stdout",
     "output_type": "stream",
     "text": [
      "Wed Dec 11 22:08:44 2024       \n",
      "+-----------------------------------------------------------------------------------------+\n",
      "| NVIDIA-SMI 555.59                 Driver Version: 556.13         CUDA Version: 12.5     |\n",
      "|-----------------------------------------+------------------------+----------------------+\n",
      "| GPU  Name                 Persistence-M | Bus-Id          Disp.A | Volatile Uncorr. ECC |\n",
      "| Fan  Temp   Perf          Pwr:Usage/Cap |           Memory-Usage | GPU-Util  Compute M. |\n",
      "|                                         |                        |               MIG M. |\n",
      "|=========================================+========================+======================|\n",
      "|   0  NVIDIA GeForce RTX 4060 ...    On  |   00000000:01:00.0  On |                  N/A |\n",
      "| N/A   49C    P0             19W /   75W |     777MiB /   8188MiB |      6%      Default |\n",
      "|                                         |                        |                  N/A |\n",
      "+-----------------------------------------+------------------------+----------------------+\n",
      "                                                                                         \n",
      "+-----------------------------------------------------------------------------------------+\n",
      "| Processes:                                                                              |\n",
      "|  GPU   GI   CI        PID   Type   Process name                              GPU Memory |\n",
      "|        ID   ID                                                               Usage      |\n",
      "|=========================================================================================|\n",
      "|  No running processes found                                                             |\n",
      "+-----------------------------------------------------------------------------------------+\n"
     ]
    }
   ],
   "source": [
    "!nvidia-smi"
   ]
  },
  {
   "cell_type": "code",
   "execution_count": 3,
   "metadata": {},
   "outputs": [
    {
     "name": "stdout",
     "output_type": "stream",
     "text": [
      "Device Name: NVIDIA GeForce RTX 4060 Laptop GPU\n"
     ]
    }
   ],
   "source": [
    "print(\"Device Name:\", torch.cuda.get_device_name(0) if torch.cuda.is_available() else \"No GPU available\")"
   ]
  },
  {
   "cell_type": "code",
   "execution_count": 4,
   "metadata": {},
   "outputs": [],
   "source": [
    "# Use GPU for training\n",
    "device = torch.device(\"cuda\")"
   ]
  },
  {
   "cell_type": "code",
   "execution_count": 5,
   "metadata": {},
   "outputs": [],
   "source": [
    "_exp_name = 'mnist_m'"
   ]
  },
  {
   "cell_type": "code",
   "execution_count": 6,
   "metadata": {},
   "outputs": [],
   "source": [
    "# Import necessary packages\n",
    "import torch.nn as nn\n",
    "import torch.optim\n",
    "from torch.utils.data import DataLoader, random_split, Dataset\n",
    "\n",
    "import numpy as np\n",
    "import matplotlib.pyplot as plt\n",
    "import pandas as pd\n",
    "from omegaconf import OmegaConf\n",
    "from tqdm.auto import tqdm\n",
    "import h5py\n",
    "import os\n",
    "import cv2\n",
    "\n",
    "from rich.progress import Progress, TextColumn, BarColumn, TimeElapsedColumn, TimeRemainingColumn, track"
   ]
  },
  {
   "cell_type": "code",
   "execution_count": 7,
   "metadata": {},
   "outputs": [],
   "source": [
    "# Fix random seed for reproducibility\n",
    "seed = 114514\n",
    "np.random.seed(seed)\n",
    "torch.manual_seed(seed)\n",
    "torch.cuda.manual_seed_all(seed)\n",
    "\n",
    "# Avoid nondeterministic algorithms and disable benchmarks for convolution operations\n",
    "torch.backends.cudnn.deterministic = True\n",
    "torch.backends.cudnn.benchmark = False"
   ]
  },
  {
   "cell_type": "code",
   "execution_count": 8,
   "metadata": {},
   "outputs": [],
   "source": [
    "from torchvision import datasets, transforms\n",
    "\n",
    "# Pipeline for preprocessing of the image. \n",
    "source_transform = transforms.Compose([\n",
    "\n",
    "    # Resize into a fixed size\n",
    "    transforms.Resize((32, 32)),\n",
    "\n",
    "    transforms.RandomHorizontalFlip(),\n",
    "    # Transform to pytorch tensor\n",
    "    transforms.ToTensor(),\n",
    "\n",
    "    # Normalizes the pixel values to have a mean value of 0 and a standard deviation of 1, assuming initially in range (0, 1)\n",
    "    transforms.Normalize((0.5,), (0.5,))\n",
    "])\n",
    "\n",
    "\n",
    "# Download the MNIST dataset\n",
    "mnist_train = datasets.MNIST(root='./data', train=True, transform=source_transform, download=False)\n",
    "mnist_test = datasets.MNIST(root='./data', train=False, transform=source_transform, download=False)\n"
   ]
  },
  {
   "cell_type": "code",
   "execution_count": 9,
   "metadata": {},
   "outputs": [],
   "source": [
    "class MNISTM_dataset(Dataset):\n",
    "    \n",
    "    def __init__(self, images, transform=None):\n",
    "\n",
    "        self.images = images\n",
    "        self.transform = transform\n",
    "\n",
    "    def __len__(self):\n",
    "        return len(self.images)\n",
    "    \n",
    "    def __getitem__(self, index):\n",
    "\n",
    "        image = self.images[index]\n",
    "        image = self.transform(image)\n",
    "        return image\n",
    "    \n",
    "target_transform = transforms.Compose([\n",
    "\n",
    "    transforms.ToPILImage(),\n",
    "\n",
    "    transforms.Grayscale(),\n",
    "\n",
    "    transforms.Lambda(lambda x: cv2.Canny(np.array(x), 170, 300)),\n",
    "    \n",
    "    transforms.ToPILImage(),\n",
    "    \n",
    "    transforms.Resize((32, 32)),\n",
    "\n",
    "    transforms.RandomHorizontalFlip(),\n",
    "\n",
    "    transforms.ToTensor(),\n",
    "])\n",
    "\n",
    "mnistm_dict = './data/mnistm.h5'\n",
    "with h5py.File(mnistm_dict, 'r') as h5file:\n",
    "    mm_train = h5file['train'][:]\n",
    "    mm_test_data = h5file['test_data'][:]\n",
    "    mm_test_labels = h5file['test_label'][:]\n",
    "\n",
    "target_dataset = MNISTM_dataset(mm_train, transform=target_transform)"
   ]
  },
  {
   "cell_type": "code",
   "execution_count": 10,
   "metadata": {},
   "outputs": [],
   "source": [
    "class MNISTM_test(Dataset):\n",
    "    \n",
    "    def __init__(self, images, labels, transform=None):\n",
    "        self.images = images\n",
    "        self.transform = transform\n",
    "        self.labels = labels\n",
    "\n",
    "    def __len__(self):\n",
    "        return len(self.images)\n",
    "    \n",
    "    def __getitem__(self, index):\n",
    "        \n",
    "        image = self.images[index]\n",
    "        image = self.transform(image)\n",
    "        label = self.labels[index]\n",
    "        \n",
    "        return image, label\n",
    "    \n",
    "test_dataset = MNISTM_test(mm_test_data, mm_test_labels, transform=target_transform)"
   ]
  },
  {
   "cell_type": "code",
   "execution_count": 14,
   "metadata": {},
   "outputs": [
    {
     "name": "stdout",
     "output_type": "stream",
     "text": [
      "(28, 28, 3)\n"
     ]
    },
    {
     "data": {
      "image/png": "[encoded data removed]",
      "text/plain": [
       "<Figure size 640x480 with 1 Axes>"
      ]
     },
     "metadata": {},
     "output_type": "display_data"
    }
   ],
   "source": [
    "index = 3\n",
    "# Viualization of certain image\n",
    "image= mm_train[index]\n",
    "print(np.shape(image))\n",
    "plt.imshow(image, cmap=\"gray\")\n",
    "plt.show()"
   ]
  },
  {
   "cell_type": "code",
   "execution_count": 12,
   "metadata": {},
   "outputs": [
    {
     "name": "stdout",
     "output_type": "stream",
     "text": [
      "torch.Size([1, 32, 32])\n",
      "0\n"
     ]
    },
    {
     "data": {
      "image/png": "[encoded data removed]",
      "text/plain": [
       "<Figure size 640x480 with 1 Axes>"
      ]
     },
     "metadata": {},
     "output_type": "display_data"
    }
   ],
   "source": [
    "target_image = test_dataset[index]\n",
    "print(np.shape(target_image[0]))\n",
    "print(target_image[1])\n",
    "plt.imshow(target_image[0].squeeze().numpy(), cmap='gray')\n",
    "plt.show()"
   ]
  },
  {
   "cell_type": "code",
   "execution_count": 13,
   "metadata": {},
   "outputs": [],
   "source": [
    "config = OmegaConf.load('config_m.yaml')\n",
    "config_dict = OmegaConf.to_container(config, resolve=True)"
   ]
  },
  {
   "cell_type": "code",
   "execution_count": 14,
   "metadata": {},
   "outputs": [],
   "source": [
    "# target_len = 10000\n",
    "# target, _ = random_split(target_dataset, [target_len, len(target_dataset)-target_len])\n",
    "source_loader = DataLoader(mnist_train, batch_size=config_dict['batch_size'], shuffle=True)\n",
    "target_loader = DataLoader(target_dataset, batch_size=config_dict['batch_size'], shuffle=True)\n",
    "test_loader = DataLoader(test_dataset, batch_size=config_dict['batch_size'], shuffle=False)"
   ]
  },
  {
   "cell_type": "code",
   "execution_count": 15,
   "metadata": {},
   "outputs": [],
   "source": [
    "class FeatureExtractor(nn.Module):\n",
    "    def __init__(self):\n",
    "        # inherit attributes and methods of nn.Module\n",
    "        super(FeatureExtractor, self).__init__()\n",
    "\n",
    "        self.cnn = nn.Sequential(\n",
    "            # Input size is [32, 32, 1]\n",
    "            self.cnn_layer(in_channels=1, out_channels=64),     # [16, 16, 64]\n",
    "\n",
    "            self.cnn_layer(in_channels=64, out_channels=128),       # [8, 8, 128]\n",
    "\n",
    "            self.cnn_layer(in_channels=128, out_channels=256),      # [4, 4, 256]\n",
    "\n",
    "            self.cnn_layer(in_channels=256, out_channels=512),       # [2, 2, 512]\n",
    "\n",
    "            self.cnn_layer(in_channels=512, out_channels=512),       # [1, 1, 512]\n",
    "        )\n",
    "\n",
    "    def cnn_layer(self, in_channels, out_channels, kernel_size=3, stride=1, padding=1, \n",
    "                  pooling_kernel_size=2, pooling_stride=2, pooling_padding=0):\n",
    "        \"\"\"\n",
    "        Create a default CNN layer. In and out channels are required parameters\n",
    "        Parameters:\n",
    "        - in_channels: Number of input channels.\n",
    "        - out_channels: Number of output filter channels.\n",
    "        - kernel_size: Size of the convolutional kernel.\n",
    "        - stride: Stride of the convolution.\n",
    "        - padding: Padding value added to the input.\n",
    "        - pooling_kernel_size: Size of the maxpooling kernel.\n",
    "        - pooling_stride: Stride of the maxpooling.\n",
    "        - pooing_padding: Padding value added to the convolution output channel.\n",
    "\n",
    "        Returns:\n",
    "        - nn.Sequential: A block with convolution layer and pooling layer.\n",
    "        \"\"\"\n",
    "\n",
    "        return nn.Sequential(\n",
    "            nn.Conv2d(in_channels, out_channels, kernel_size, stride, padding),\n",
    "            # nn.BatchNorm2d(out_channels, eps=1e-05, momentum=0.1),\n",
    "            nn.BatchNorm2d(out_channels),\n",
    "            nn.ReLU(),\n",
    "            nn.MaxPool2d(pooling_kernel_size, pooling_stride, pooling_padding)\n",
    "        )\n",
    "    \n",
    "    def forward(self, x):\n",
    "\n",
    "        filter = self.cnn(x)\n",
    "        filter = filter.view(filter.size()[0], -1)\n",
    "\n",
    "        return filter\n",
    "    \n",
    "class LabelPredictor(nn.Module):\n",
    "\n",
    "    def __init__(self):\n",
    "        super(LabelPredictor, self).__init__()\n",
    "\n",
    "        self.layer = nn.Sequential(\n",
    "            nn.Linear(512, 512),\n",
    "            nn.ReLU(),\n",
    "\n",
    "            nn.Linear(512, 512),\n",
    "            nn.ReLU(),\n",
    "\n",
    "            nn.Linear(512, 10),\n",
    "        )\n",
    "\n",
    "    def forward(self, x):\n",
    "        x = self.layer(x)\n",
    "        return x\n",
    "\n",
    "class DomainClassifier(nn.Module):\n",
    "\n",
    "    def __init__(self):\n",
    "        super(DomainClassifier, self).__init__()\n",
    "\n",
    "        self.layer = nn.Sequential(\n",
    "            nn.Linear(512, 512),\n",
    "            nn.BatchNorm1d(512),\n",
    "            nn.ReLU(),\n",
    "\n",
    "            nn.Linear(512, 512),\n",
    "            nn.BatchNorm1d(512),\n",
    "            nn.ReLU(),\n",
    "\n",
    "            nn.Linear(512, 1),\n",
    "        )\n",
    "\n",
    "    def forward(self, x):\n",
    "        x = self.layer(x)\n",
    "        return x"
   ]
  },
  {
   "cell_type": "code",
   "execution_count": 16,
   "metadata": {},
   "outputs": [],
   "source": [
    "feature_extractor = FeatureExtractor().to(device)\n",
    "label_predictor = LabelPredictor().to(device)\n",
    "domain_classifier = DomainClassifier().to(device)\n",
    "\n",
    "label_criterion = nn.CrossEntropyLoss()\n",
    "domain_criterion = nn.BCEWithLogitsLoss()\n",
    "\n",
    "optimizer_F = torch.optim.Adam(feature_extractor.parameters(), lr= config_dict['F_lr'])\n",
    "optimizer_P = torch.optim.Adam(label_predictor.parameters(), lr = config_dict['P_lr'])\n",
    "optimizer_D = torch.optim.Adam(domain_classifier.parameters(), lr = config_dict['D_lr'])\n",
    "\n",
    "scheduler_F = torch.optim.lr_scheduler.StepLR(optimizer_F, step_size=5, gamma=config_dict['gamma'])\n",
    "scheduler_P = torch.optim.lr_scheduler.StepLR(optimizer_P, step_size=5, gamma=config_dict['gamma'])\n",
    "scheduler_D = torch.optim.lr_scheduler.StepLR(optimizer_D, step_size=5, gamma=config_dict['gamma'])"
   ]
  },
  {
   "cell_type": "code",
   "execution_count": 17,
   "metadata": {},
   "outputs": [],
   "source": [
    "def train_epoch(source_loader, target_loader, progress, lamb):\n",
    "\n",
    "    y_loss = 0.0\n",
    "    d_loss = 0.0 \n",
    "    acc_sum = 0.0\n",
    "    num = 0\n",
    "\n",
    "    batch_tqdm = progress.add_task(description=f'batch progress', total=len(source_loader))\n",
    "\n",
    "    for i, ((source_data, source_label), target_data) in enumerate(zip(source_loader, target_loader)):\n",
    "\n",
    "        source_data = source_data.to(device)\n",
    "        source_label = source_label.to(device)\n",
    "        target_data = target_data.to(device)\n",
    "\n",
    "        mixed_data = torch.cat([source_data, target_data], dim=0)\n",
    "        mixed_label = torch.zeros([source_data.shape[0] + target_data.shape[0], 1])\n",
    "        mixed_label = mixed_label.to(device)\n",
    "        mixed_label[:source_data.shape[0]] = 1\n",
    "\n",
    "        # Train domain classifier\n",
    "        feature = feature_extractor(mixed_data)\n",
    "        domain_logits = domain_classifier(feature.detach())\n",
    "        loss = domain_criterion(domain_logits, mixed_label)\n",
    "        d_loss += loss.item()\n",
    "        loss.backward()\n",
    "        optimizer_D.step()\n",
    "\n",
    "        # Train feature extractor and label predictor\n",
    "        label_logits = label_predictor(feature[:source_data.shape[0]])\n",
    "        domain_logits = domain_classifier(feature)\n",
    "        loss = label_criterion(label_logits, source_label) - lamb * domain_criterion(domain_logits, mixed_label)\n",
    "        y_loss += loss.item()\n",
    "        loss.backward()\n",
    "        optimizer_F.step()\n",
    "        optimizer_P.step()\n",
    "\n",
    "        optimizer_D.zero_grad()\n",
    "        optimizer_F.zero_grad()\n",
    "        optimizer_P.zero_grad()\n",
    "        \n",
    "        acc_sum += torch.sum(torch.argmax(label_logits, dim=1) == source_label).item()\n",
    "        num += source_data.shape[0]\n",
    "        progress.advance(batch_tqdm, advance=1)\n",
    "\n",
    "    progress.remove_task(batch_tqdm)\n",
    "\n",
    "    return d_loss / (i+1), y_loss / (i+1), acc_sum / num"
   ]
  },
  {
   "cell_type": "code",
   "execution_count": 18,
   "metadata": {},
   "outputs": [
    {
     "data": {
      "application/vnd.jupyter.widget-view+json": {
       "model_id": "3f4e01af640f4c02ab793613f22db681",
       "version_major": 2,
       "version_minor": 0
      },
      "text/plain": [
       "Output()"
      ]
     },
     "metadata": {},
     "output_type": "display_data"
    },
    {
     "data": {
      "text/html": [
       "<pre style=\"white-space:pre;overflow-x:auto;line-height:normal;font-family:Menlo,'DejaVu Sans Mono',consolas,'Courier New',monospace\">epoch   0: train_d_loss: 0.6644, train_y_loss: 0.2128, train_acc 0.9089\n",
       "</pre>\n"
      ],
      "text/plain": [
       "epoch   0: train_d_loss: 0.6644, train_y_loss: 0.2128, train_acc 0.9089\n"
      ]
     },
     "metadata": {},
     "output_type": "display_data"
    },
    {
     "data": {
      "text/html": [
       "<pre style=\"white-space:pre;overflow-x:auto;line-height:normal;font-family:Menlo,'DejaVu Sans Mono',consolas,'Courier New',monospace\">epoch   1: train_d_loss: 0.5855, train_y_loss: 0.0285, train_acc 0.9744\n",
       "</pre>\n"
      ],
      "text/plain": [
       "epoch   1: train_d_loss: 0.5855, train_y_loss: 0.0285, train_acc 0.9744\n"
      ]
     },
     "metadata": {},
     "output_type": "display_data"
    },
    {
     "data": {
      "text/html": [
       "<pre style=\"white-space:pre;overflow-x:auto;line-height:normal;font-family:Menlo,'DejaVu Sans Mono',consolas,'Courier New',monospace\">epoch   2: train_d_loss: 0.6256, train_y_loss: 0.0047, train_acc 0.9799\n",
       "</pre>\n"
      ],
      "text/plain": [
       "epoch   2: train_d_loss: 0.6256, train_y_loss: 0.0047, train_acc 0.9799\n"
      ]
     },
     "metadata": {},
     "output_type": "display_data"
    },
    {
     "data": {
      "text/html": [
       "<pre style=\"white-space:pre;overflow-x:auto;line-height:normal;font-family:Menlo,'DejaVu Sans Mono',consolas,'Courier New',monospace\">epoch   3: train_d_loss: 0.5821, train_y_loss: 0.0011, train_acc 0.9831\n",
       "</pre>\n"
      ],
      "text/plain": [
       "epoch   3: train_d_loss: 0.5821, train_y_loss: 0.0011, train_acc 0.9831\n"
      ]
     },
     "metadata": {},
     "output_type": "display_data"
    },
    {
     "data": {
      "text/html": [
       "<pre style=\"white-space:pre;overflow-x:auto;line-height:normal;font-family:Menlo,'DejaVu Sans Mono',consolas,'Courier New',monospace\">epoch   4: train_d_loss: 0.5518, train_y_loss: -0.0045, train_acc 0.9853\n",
       "</pre>\n"
      ],
      "text/plain": [
       "epoch   4: train_d_loss: 0.5518, train_y_loss: -0.0045, train_acc 0.9853\n"
      ]
     },
     "metadata": {},
     "output_type": "display_data"
    },
    {
     "data": {
      "text/html": [
       "<pre style=\"white-space:pre;overflow-x:auto;line-height:normal;font-family:Menlo,'DejaVu Sans Mono',consolas,'Courier New',monospace\">epoch   5: train_d_loss: 0.5609, train_y_loss: -0.0079, train_acc 0.9864\n",
       "</pre>\n"
      ],
      "text/plain": [
       "epoch   5: train_d_loss: 0.5609, train_y_loss: -0.0079, train_acc 0.9864\n"
      ]
     },
     "metadata": {},
     "output_type": "display_data"
    },
    {
     "data": {
      "text/html": [
       "<pre style=\"white-space:pre;overflow-x:auto;line-height:normal;font-family:Menlo,'DejaVu Sans Mono',consolas,'Courier New',monospace\">epoch   6: train_d_loss: 0.5474, train_y_loss: -0.0107, train_acc 0.9872\n",
       "</pre>\n"
      ],
      "text/plain": [
       "epoch   6: train_d_loss: 0.5474, train_y_loss: -0.0107, train_acc 0.9872\n"
      ]
     },
     "metadata": {},
     "output_type": "display_data"
    },
    {
     "data": {
      "text/html": [
       "<pre style=\"white-space:pre;overflow-x:auto;line-height:normal;font-family:Menlo,'DejaVu Sans Mono',consolas,'Courier New',monospace\">epoch   7: train_d_loss: 0.5390, train_y_loss: -0.0145, train_acc 0.9887\n",
       "</pre>\n"
      ],
      "text/plain": [
       "epoch   7: train_d_loss: 0.5390, train_y_loss: -0.0145, train_acc 0.9887\n"
      ]
     },
     "metadata": {},
     "output_type": "display_data"
    },
    {
     "data": {
      "text/html": [
       "<pre style=\"white-space:pre;overflow-x:auto;line-height:normal;font-family:Menlo,'DejaVu Sans Mono',consolas,'Courier New',monospace\">epoch   8: train_d_loss: 0.5283, train_y_loss: -0.0163, train_acc 0.9899\n",
       "</pre>\n"
      ],
      "text/plain": [
       "epoch   8: train_d_loss: 0.5283, train_y_loss: -0.0163, train_acc 0.9899\n"
      ]
     },
     "metadata": {},
     "output_type": "display_data"
    },
    {
     "data": {
      "text/html": [
       "<pre style=\"white-space:pre;overflow-x:auto;line-height:normal;font-family:Menlo,'DejaVu Sans Mono',consolas,'Courier New',monospace\">epoch   9: train_d_loss: 0.5501, train_y_loss: -0.0198, train_acc 0.9895\n",
       "</pre>\n"
      ],
      "text/plain": [
       "epoch   9: train_d_loss: 0.5501, train_y_loss: -0.0198, train_acc 0.9895\n"
      ]
     },
     "metadata": {},
     "output_type": "display_data"
    },
    {
     "data": {
      "text/html": [
       "<pre style=\"white-space:pre;overflow-x:auto;line-height:normal;font-family:Menlo,'DejaVu Sans Mono',consolas,'Courier New',monospace\">epoch  10: train_d_loss: 0.5619, train_y_loss: -0.0242, train_acc 0.9909\n",
       "</pre>\n"
      ],
      "text/plain": [
       "epoch  10: train_d_loss: 0.5619, train_y_loss: -0.0242, train_acc 0.9909\n"
      ]
     },
     "metadata": {},
     "output_type": "display_data"
    },
    {
     "data": {
      "text/html": [
       "<pre style=\"white-space:pre;overflow-x:auto;line-height:normal;font-family:Menlo,'DejaVu Sans Mono',consolas,'Courier New',monospace\">epoch  11: train_d_loss: 0.5440, train_y_loss: -0.0232, train_acc 0.9908\n",
       "</pre>\n"
      ],
      "text/plain": [
       "epoch  11: train_d_loss: 0.5440, train_y_loss: -0.0232, train_acc 0.9908\n"
      ]
     },
     "metadata": {},
     "output_type": "display_data"
    },
    {
     "data": {
      "text/html": [
       "<pre style=\"white-space:pre;overflow-x:auto;line-height:normal;font-family:Menlo,'DejaVu Sans Mono',consolas,'Courier New',monospace\">epoch  12: train_d_loss: 0.5637, train_y_loss: -0.0250, train_acc 0.9917\n",
       "</pre>\n"
      ],
      "text/plain": [
       "epoch  12: train_d_loss: 0.5637, train_y_loss: -0.0250, train_acc 0.9917\n"
      ]
     },
     "metadata": {},
     "output_type": "display_data"
    },
    {
     "data": {
      "text/html": [
       "<pre style=\"white-space:pre;overflow-x:auto;line-height:normal;font-family:Menlo,'DejaVu Sans Mono',consolas,'Courier New',monospace\">epoch  13: train_d_loss: 0.5553, train_y_loss: -0.0274, train_acc 0.9919\n",
       "</pre>\n"
      ],
      "text/plain": [
       "epoch  13: train_d_loss: 0.5553, train_y_loss: -0.0274, train_acc 0.9919\n"
      ]
     },
     "metadata": {},
     "output_type": "display_data"
    },
    {
     "data": {
      "text/html": [
       "<pre style=\"white-space:pre;overflow-x:auto;line-height:normal;font-family:Menlo,'DejaVu Sans Mono',consolas,'Courier New',monospace\">epoch  14: train_d_loss: 0.5623, train_y_loss: -0.0322, train_acc 0.9932\n",
       "</pre>\n"
      ],
      "text/plain": [
       "epoch  14: train_d_loss: 0.5623, train_y_loss: -0.0322, train_acc 0.9932\n"
      ]
     },
     "metadata": {},
     "output_type": "display_data"
    },
    {
     "data": {
      "text/html": [
       "<pre style=\"white-space:pre;overflow-x:auto;line-height:normal;font-family:Menlo,'DejaVu Sans Mono',consolas,'Courier New',monospace\">epoch  15: train_d_loss: 0.5582, train_y_loss: -0.0331, train_acc 0.9934\n",
       "</pre>\n"
      ],
      "text/plain": [
       "epoch  15: train_d_loss: 0.5582, train_y_loss: -0.0331, train_acc 0.9934\n"
      ]
     },
     "metadata": {},
     "output_type": "display_data"
    },
    {
     "data": {
      "text/html": [
       "<pre style=\"white-space:pre;overflow-x:auto;line-height:normal;font-family:Menlo,'DejaVu Sans Mono',consolas,'Courier New',monospace\">epoch  16: train_d_loss: 0.5642, train_y_loss: -0.0340, train_acc 0.9936\n",
       "</pre>\n"
      ],
      "text/plain": [
       "epoch  16: train_d_loss: 0.5642, train_y_loss: -0.0340, train_acc 0.9936\n"
      ]
     },
     "metadata": {},
     "output_type": "display_data"
    },
    {
     "data": {
      "text/html": [
       "<pre style=\"white-space:pre;overflow-x:auto;line-height:normal;font-family:Menlo,'DejaVu Sans Mono',consolas,'Courier New',monospace\">epoch  17: train_d_loss: 0.5753, train_y_loss: -0.0346, train_acc 0.9937\n",
       "</pre>\n"
      ],
      "text/plain": [
       "epoch  17: train_d_loss: 0.5753, train_y_loss: -0.0346, train_acc 0.9937\n"
      ]
     },
     "metadata": {},
     "output_type": "display_data"
    },
    {
     "data": {
      "text/html": [
       "<pre style=\"white-space:pre;overflow-x:auto;line-height:normal;font-family:Menlo,'DejaVu Sans Mono',consolas,'Courier New',monospace\">epoch  18: train_d_loss: 0.5713, train_y_loss: -0.0357, train_acc 0.9941\n",
       "</pre>\n"
      ],
      "text/plain": [
       "epoch  18: train_d_loss: 0.5713, train_y_loss: -0.0357, train_acc 0.9941\n"
      ]
     },
     "metadata": {},
     "output_type": "display_data"
    },
    {
     "data": {
      "text/html": [
       "<pre style=\"white-space:pre;overflow-x:auto;line-height:normal;font-family:Menlo,'DejaVu Sans Mono',consolas,'Courier New',monospace\">epoch  19: train_d_loss: 0.5700, train_y_loss: -0.0364, train_acc 0.9942\n",
       "</pre>\n"
      ],
      "text/plain": [
       "epoch  19: train_d_loss: 0.5700, train_y_loss: -0.0364, train_acc 0.9942\n"
      ]
     },
     "metadata": {},
     "output_type": "display_data"
    },
    {
     "data": {
      "text/html": [
       "<pre style=\"white-space:pre;overflow-x:auto;line-height:normal;font-family:Menlo,'DejaVu Sans Mono',consolas,'Courier New',monospace\">epoch  20: train_d_loss: 0.5741, train_y_loss: -0.0374, train_acc 0.9942\n",
       "</pre>\n"
      ],
      "text/plain": [
       "epoch  20: train_d_loss: 0.5741, train_y_loss: -0.0374, train_acc 0.9942\n"
      ]
     },
     "metadata": {},
     "output_type": "display_data"
    },
    {
     "data": {
      "text/html": [
       "<pre style=\"white-space:pre;overflow-x:auto;line-height:normal;font-family:Menlo,'DejaVu Sans Mono',consolas,'Courier New',monospace\">epoch  21: train_d_loss: 0.5713, train_y_loss: -0.0414, train_acc 0.9957\n",
       "</pre>\n"
      ],
      "text/plain": [
       "epoch  21: train_d_loss: 0.5713, train_y_loss: -0.0414, train_acc 0.9957\n"
      ]
     },
     "metadata": {},
     "output_type": "display_data"
    },
    {
     "data": {
      "text/html": [
       "<pre style=\"white-space:pre;overflow-x:auto;line-height:normal;font-family:Menlo,'DejaVu Sans Mono',consolas,'Courier New',monospace\">epoch  22: train_d_loss: 0.5776, train_y_loss: -0.0407, train_acc 0.9956\n",
       "</pre>\n"
      ],
      "text/plain": [
       "epoch  22: train_d_loss: 0.5776, train_y_loss: -0.0407, train_acc 0.9956\n"
      ]
     },
     "metadata": {},
     "output_type": "display_data"
    },
    {
     "data": {
      "text/html": [
       "<pre style=\"white-space:pre;overflow-x:auto;line-height:normal;font-family:Menlo,'DejaVu Sans Mono',consolas,'Courier New',monospace\">epoch  23: train_d_loss: 0.5772, train_y_loss: -0.0402, train_acc 0.9953\n",
       "</pre>\n"
      ],
      "text/plain": [
       "epoch  23: train_d_loss: 0.5772, train_y_loss: -0.0402, train_acc 0.9953\n"
      ]
     },
     "metadata": {},
     "output_type": "display_data"
    },
    {
     "data": {
      "text/html": [
       "<pre style=\"white-space:pre;overflow-x:auto;line-height:normal;font-family:Menlo,'DejaVu Sans Mono',consolas,'Courier New',monospace\">epoch  24: train_d_loss: 0.5803, train_y_loss: -0.0409, train_acc 0.9954\n",
       "</pre>\n"
      ],
      "text/plain": [
       "epoch  24: train_d_loss: 0.5803, train_y_loss: -0.0409, train_acc 0.9954\n"
      ]
     },
     "metadata": {},
     "output_type": "display_data"
    },
    {
     "data": {
      "text/html": [
       "<pre style=\"white-space:pre;overflow-x:auto;line-height:normal;font-family:Menlo,'DejaVu Sans Mono',consolas,'Courier New',monospace\">epoch  25: train_d_loss: 0.5771, train_y_loss: -0.0414, train_acc 0.9952\n",
       "</pre>\n"
      ],
      "text/plain": [
       "epoch  25: train_d_loss: 0.5771, train_y_loss: -0.0414, train_acc 0.9952\n"
      ]
     },
     "metadata": {},
     "output_type": "display_data"
    },
    {
     "data": {
      "text/html": [
       "<pre style=\"white-space:pre;overflow-x:auto;line-height:normal;font-family:Menlo,'DejaVu Sans Mono',consolas,'Courier New',monospace\">epoch  26: train_d_loss: 0.5738, train_y_loss: -0.0427, train_acc 0.9958\n",
       "</pre>\n"
      ],
      "text/plain": [
       "epoch  26: train_d_loss: 0.5738, train_y_loss: -0.0427, train_acc 0.9958\n"
      ]
     },
     "metadata": {},
     "output_type": "display_data"
    },
    {
     "data": {
      "text/html": [
       "<pre style=\"white-space:pre;overflow-x:auto;line-height:normal;font-family:Menlo,'DejaVu Sans Mono',consolas,'Courier New',monospace\">epoch  27: train_d_loss: 0.5847, train_y_loss: -0.0452, train_acc 0.9962\n",
       "</pre>\n"
      ],
      "text/plain": [
       "epoch  27: train_d_loss: 0.5847, train_y_loss: -0.0452, train_acc 0.9962\n"
      ]
     },
     "metadata": {},
     "output_type": "display_data"
    },
    {
     "data": {
      "text/html": [
       "<pre style=\"white-space:pre;overflow-x:auto;line-height:normal;font-family:Menlo,'DejaVu Sans Mono',consolas,'Courier New',monospace\">epoch  28: train_d_loss: 0.5834, train_y_loss: -0.0463, train_acc 0.9967\n",
       "</pre>\n"
      ],
      "text/plain": [
       "epoch  28: train_d_loss: 0.5834, train_y_loss: -0.0463, train_acc 0.9967\n"
      ]
     },
     "metadata": {},
     "output_type": "display_data"
    },
    {
     "data": {
      "text/html": [
       "<pre style=\"white-space:pre;overflow-x:auto;line-height:normal;font-family:Menlo,'DejaVu Sans Mono',consolas,'Courier New',monospace\">epoch  29: train_d_loss: 0.5890, train_y_loss: -0.0451, train_acc 0.9964\n",
       "</pre>\n"
      ],
      "text/plain": [
       "epoch  29: train_d_loss: 0.5890, train_y_loss: -0.0451, train_acc 0.9964\n"
      ]
     },
     "metadata": {},
     "output_type": "display_data"
    },
    {
     "data": {
      "text/html": [
       "<pre style=\"white-space:pre;overflow-x:auto;line-height:normal;font-family:Menlo,'DejaVu Sans Mono',consolas,'Courier New',monospace\">epoch  30: train_d_loss: 0.5855, train_y_loss: -0.0442, train_acc 0.9965\n",
       "</pre>\n"
      ],
      "text/plain": [
       "epoch  30: train_d_loss: 0.5855, train_y_loss: -0.0442, train_acc 0.9965\n"
      ]
     },
     "metadata": {},
     "output_type": "display_data"
    },
    {
     "data": {
      "text/html": [
       "<pre style=\"white-space:pre;overflow-x:auto;line-height:normal;font-family:Menlo,'DejaVu Sans Mono',consolas,'Courier New',monospace\">epoch  31: train_d_loss: 0.6084, train_y_loss: -0.0475, train_acc 0.9962\n",
       "</pre>\n"
      ],
      "text/plain": [
       "epoch  31: train_d_loss: 0.6084, train_y_loss: -0.0475, train_acc 0.9962\n"
      ]
     },
     "metadata": {},
     "output_type": "display_data"
    },
    {
     "data": {
      "text/html": [
       "<pre style=\"white-space:pre;overflow-x:auto;line-height:normal;font-family:Menlo,'DejaVu Sans Mono',consolas,'Courier New',monospace\">epoch  32: train_d_loss: 0.5914, train_y_loss: -0.0475, train_acc 0.9969\n",
       "</pre>\n"
      ],
      "text/plain": [
       "epoch  32: train_d_loss: 0.5914, train_y_loss: -0.0475, train_acc 0.9969\n"
      ]
     },
     "metadata": {},
     "output_type": "display_data"
    },
    {
     "data": {
      "text/html": [
       "<pre style=\"white-space:pre;overflow-x:auto;line-height:normal;font-family:Menlo,'DejaVu Sans Mono',consolas,'Courier New',monospace\">epoch  33: train_d_loss: 0.5899, train_y_loss: -0.0452, train_acc 0.9967\n",
       "</pre>\n"
      ],
      "text/plain": [
       "epoch  33: train_d_loss: 0.5899, train_y_loss: -0.0452, train_acc 0.9967\n"
      ]
     },
     "metadata": {},
     "output_type": "display_data"
    },
    {
     "data": {
      "text/html": [
       "<pre style=\"white-space:pre;overflow-x:auto;line-height:normal;font-family:Menlo,'DejaVu Sans Mono',consolas,'Courier New',monospace\">epoch  34: train_d_loss: 0.5988, train_y_loss: -0.0492, train_acc 0.9970\n",
       "</pre>\n"
      ],
      "text/plain": [
       "epoch  34: train_d_loss: 0.5988, train_y_loss: -0.0492, train_acc 0.9970\n"
      ]
     },
     "metadata": {},
     "output_type": "display_data"
    },
    {
     "data": {
      "text/html": [
       "<pre style=\"white-space:pre;overflow-x:auto;line-height:normal;font-family:Menlo,'DejaVu Sans Mono',consolas,'Courier New',monospace\">epoch  35: train_d_loss: 0.5889, train_y_loss: -0.0472, train_acc 0.9969\n",
       "</pre>\n"
      ],
      "text/plain": [
       "epoch  35: train_d_loss: 0.5889, train_y_loss: -0.0472, train_acc 0.9969\n"
      ]
     },
     "metadata": {},
     "output_type": "display_data"
    },
    {
     "data": {
      "text/html": [
       "<pre style=\"white-space:pre;overflow-x:auto;line-height:normal;font-family:Menlo,'DejaVu Sans Mono',consolas,'Courier New',monospace\">epoch  36: train_d_loss: 0.5957, train_y_loss: -0.0488, train_acc 0.9973\n",
       "</pre>\n"
      ],
      "text/plain": [
       "epoch  36: train_d_loss: 0.5957, train_y_loss: -0.0488, train_acc 0.9973\n"
      ]
     },
     "metadata": {},
     "output_type": "display_data"
    },
    {
     "data": {
      "text/html": [
       "<pre style=\"white-space:pre;overflow-x:auto;line-height:normal;font-family:Menlo,'DejaVu Sans Mono',consolas,'Courier New',monospace\">epoch  37: train_d_loss: 0.5956, train_y_loss: -0.0483, train_acc 0.9971\n",
       "</pre>\n"
      ],
      "text/plain": [
       "epoch  37: train_d_loss: 0.5956, train_y_loss: -0.0483, train_acc 0.9971\n"
      ]
     },
     "metadata": {},
     "output_type": "display_data"
    },
    {
     "data": {
      "text/html": [
       "<pre style=\"white-space:pre;overflow-x:auto;line-height:normal;font-family:Menlo,'DejaVu Sans Mono',consolas,'Courier New',monospace\">epoch  38: train_d_loss: 0.5971, train_y_loss: -0.0484, train_acc 0.9972\n",
       "</pre>\n"
      ],
      "text/plain": [
       "epoch  38: train_d_loss: 0.5971, train_y_loss: -0.0484, train_acc 0.9972\n"
      ]
     },
     "metadata": {},
     "output_type": "display_data"
    },
    {
     "data": {
      "text/html": [
       "<pre style=\"white-space:pre;overflow-x:auto;line-height:normal;font-family:Menlo,'DejaVu Sans Mono',consolas,'Courier New',monospace\">epoch  39: train_d_loss: 0.5929, train_y_loss: -0.0499, train_acc 0.9976\n",
       "</pre>\n"
      ],
      "text/plain": [
       "epoch  39: train_d_loss: 0.5929, train_y_loss: -0.0499, train_acc 0.9976\n"
      ]
     },
     "metadata": {},
     "output_type": "display_data"
    },
    {
     "data": {
      "text/html": [
       "<pre style=\"white-space:pre;overflow-x:auto;line-height:normal;font-family:Menlo,'DejaVu Sans Mono',consolas,'Courier New',monospace\">epoch  40: train_d_loss: 0.6054, train_y_loss: -0.0498, train_acc 0.9971\n",
       "</pre>\n"
      ],
      "text/plain": [
       "epoch  40: train_d_loss: 0.6054, train_y_loss: -0.0498, train_acc 0.9971\n"
      ]
     },
     "metadata": {},
     "output_type": "display_data"
    },
    {
     "data": {
      "text/html": [
       "<pre style=\"white-space:pre;overflow-x:auto;line-height:normal;font-family:Menlo,'DejaVu Sans Mono',consolas,'Courier New',monospace\">epoch  41: train_d_loss: 0.6035, train_y_loss: -0.0513, train_acc 0.9976\n",
       "</pre>\n"
      ],
      "text/plain": [
       "epoch  41: train_d_loss: 0.6035, train_y_loss: -0.0513, train_acc 0.9976\n"
      ]
     },
     "metadata": {},
     "output_type": "display_data"
    },
    {
     "data": {
      "text/html": [
       "<pre style=\"white-space:pre;overflow-x:auto;line-height:normal;font-family:Menlo,'DejaVu Sans Mono',consolas,'Courier New',monospace\">epoch  42: train_d_loss: 0.6069, train_y_loss: -0.0492, train_acc 0.9972\n",
       "</pre>\n"
      ],
      "text/plain": [
       "epoch  42: train_d_loss: 0.6069, train_y_loss: -0.0492, train_acc 0.9972\n"
      ]
     },
     "metadata": {},
     "output_type": "display_data"
    },
    {
     "data": {
      "text/html": [
       "<pre style=\"white-space:pre;overflow-x:auto;line-height:normal;font-family:Menlo,'DejaVu Sans Mono',consolas,'Courier New',monospace\">epoch  43: train_d_loss: 0.6082, train_y_loss: -0.0526, train_acc 0.9979\n",
       "</pre>\n"
      ],
      "text/plain": [
       "epoch  43: train_d_loss: 0.6082, train_y_loss: -0.0526, train_acc 0.9979\n"
      ]
     },
     "metadata": {},
     "output_type": "display_data"
    },
    {
     "data": {
      "text/html": [
       "<pre style=\"white-space:pre;overflow-x:auto;line-height:normal;font-family:Menlo,'DejaVu Sans Mono',consolas,'Courier New',monospace\">epoch  44: train_d_loss: 0.6090, train_y_loss: -0.0527, train_acc 0.9978\n",
       "</pre>\n"
      ],
      "text/plain": [
       "epoch  44: train_d_loss: 0.6090, train_y_loss: -0.0527, train_acc 0.9978\n"
      ]
     },
     "metadata": {},
     "output_type": "display_data"
    },
    {
     "data": {
      "text/html": [
       "<pre style=\"white-space:pre;overflow-x:auto;line-height:normal;font-family:Menlo,'DejaVu Sans Mono',consolas,'Courier New',monospace\">epoch  45: train_d_loss: 0.6117, train_y_loss: -0.0526, train_acc 0.9980\n",
       "</pre>\n"
      ],
      "text/plain": [
       "epoch  45: train_d_loss: 0.6117, train_y_loss: -0.0526, train_acc 0.9980\n"
      ]
     },
     "metadata": {},
     "output_type": "display_data"
    },
    {
     "data": {
      "text/html": [
       "<pre style=\"white-space:pre;overflow-x:auto;line-height:normal;font-family:Menlo,'DejaVu Sans Mono',consolas,'Courier New',monospace\">epoch  46: train_d_loss: 0.6146, train_y_loss: -0.0516, train_acc 0.9977\n",
       "</pre>\n"
      ],
      "text/plain": [
       "epoch  46: train_d_loss: 0.6146, train_y_loss: -0.0516, train_acc 0.9977\n"
      ]
     },
     "metadata": {},
     "output_type": "display_data"
    },
    {
     "data": {
      "text/html": [
       "<pre style=\"white-space:pre;overflow-x:auto;line-height:normal;font-family:Menlo,'DejaVu Sans Mono',consolas,'Courier New',monospace\">epoch  47: train_d_loss: 0.6085, train_y_loss: -0.0516, train_acc 0.9980\n",
       "</pre>\n"
      ],
      "text/plain": [
       "epoch  47: train_d_loss: 0.6085, train_y_loss: -0.0516, train_acc 0.9980\n"
      ]
     },
     "metadata": {},
     "output_type": "display_data"
    },
    {
     "data": {
      "text/html": [
       "<pre style=\"white-space:pre;overflow-x:auto;line-height:normal;font-family:Menlo,'DejaVu Sans Mono',consolas,'Courier New',monospace\">epoch  48: train_d_loss: 0.6107, train_y_loss: -0.0539, train_acc 0.9980\n",
       "</pre>\n"
      ],
      "text/plain": [
       "epoch  48: train_d_loss: 0.6107, train_y_loss: -0.0539, train_acc 0.9980\n"
      ]
     },
     "metadata": {},
     "output_type": "display_data"
    },
    {
     "data": {
      "text/html": [
       "<pre style=\"white-space:pre;overflow-x:auto;line-height:normal;font-family:Menlo,'DejaVu Sans Mono',consolas,'Courier New',monospace\">epoch  49: train_d_loss: 0.6110, train_y_loss: -0.0533, train_acc 0.9979\n",
       "</pre>\n"
      ],
      "text/plain": [
       "epoch  49: train_d_loss: 0.6110, train_y_loss: -0.0533, train_acc 0.9979\n"
      ]
     },
     "metadata": {},
     "output_type": "display_data"
    },
    {
     "data": {
      "text/html": [
       "<pre style=\"white-space:pre;overflow-x:auto;line-height:normal;font-family:Menlo,'DejaVu Sans Mono',consolas,'Courier New',monospace\">epoch  50: train_d_loss: 0.6222, train_y_loss: -0.0536, train_acc 0.9978\n",
       "</pre>\n"
      ],
      "text/plain": [
       "epoch  50: train_d_loss: 0.6222, train_y_loss: -0.0536, train_acc 0.9978\n"
      ]
     },
     "metadata": {},
     "output_type": "display_data"
    },
    {
     "data": {
      "text/html": [
       "<pre style=\"white-space:pre;overflow-x:auto;line-height:normal;font-family:Menlo,'DejaVu Sans Mono',consolas,'Courier New',monospace\">epoch  51: train_d_loss: 0.6228, train_y_loss: -0.0548, train_acc 0.9981\n",
       "</pre>\n"
      ],
      "text/plain": [
       "epoch  51: train_d_loss: 0.6228, train_y_loss: -0.0548, train_acc 0.9981\n"
      ]
     },
     "metadata": {},
     "output_type": "display_data"
    },
    {
     "data": {
      "text/html": [
       "<pre style=\"white-space:pre;overflow-x:auto;line-height:normal;font-family:Menlo,'DejaVu Sans Mono',consolas,'Courier New',monospace\">epoch  52: train_d_loss: 0.6289, train_y_loss: -0.0546, train_acc 0.9980\n",
       "</pre>\n"
      ],
      "text/plain": [
       "epoch  52: train_d_loss: 0.6289, train_y_loss: -0.0546, train_acc 0.9980\n"
      ]
     },
     "metadata": {},
     "output_type": "display_data"
    },
    {
     "data": {
      "text/html": [
       "<pre style=\"white-space:pre;overflow-x:auto;line-height:normal;font-family:Menlo,'DejaVu Sans Mono',consolas,'Courier New',monospace\">epoch  53: train_d_loss: 0.6269, train_y_loss: -0.0545, train_acc 0.9981\n",
       "</pre>\n"
      ],
      "text/plain": [
       "epoch  53: train_d_loss: 0.6269, train_y_loss: -0.0545, train_acc 0.9981\n"
      ]
     },
     "metadata": {},
     "output_type": "display_data"
    },
    {
     "data": {
      "text/html": [
       "<pre style=\"white-space:pre;overflow-x:auto;line-height:normal;font-family:Menlo,'DejaVu Sans Mono',consolas,'Courier New',monospace\">epoch  54: train_d_loss: 0.6264, train_y_loss: -0.0536, train_acc 0.9978\n",
       "</pre>\n"
      ],
      "text/plain": [
       "epoch  54: train_d_loss: 0.6264, train_y_loss: -0.0536, train_acc 0.9978\n"
      ]
     },
     "metadata": {},
     "output_type": "display_data"
    },
    {
     "data": {
      "text/html": [
       "<pre style=\"white-space:pre;overflow-x:auto;line-height:normal;font-family:Menlo,'DejaVu Sans Mono',consolas,'Courier New',monospace\">epoch  55: train_d_loss: 0.6164, train_y_loss: -0.0550, train_acc 0.9983\n",
       "</pre>\n"
      ],
      "text/plain": [
       "epoch  55: train_d_loss: 0.6164, train_y_loss: -0.0550, train_acc 0.9983\n"
      ]
     },
     "metadata": {},
     "output_type": "display_data"
    },
    {
     "data": {
      "text/html": [
       "<pre style=\"white-space:pre;overflow-x:auto;line-height:normal;font-family:Menlo,'DejaVu Sans Mono',consolas,'Courier New',monospace\">epoch  56: train_d_loss: 0.6229, train_y_loss: -0.0536, train_acc 0.9980\n",
       "</pre>\n"
      ],
      "text/plain": [
       "epoch  56: train_d_loss: 0.6229, train_y_loss: -0.0536, train_acc 0.9980\n"
      ]
     },
     "metadata": {},
     "output_type": "display_data"
    },
    {
     "data": {
      "text/html": [
       "<pre style=\"white-space:pre;overflow-x:auto;line-height:normal;font-family:Menlo,'DejaVu Sans Mono',consolas,'Courier New',monospace\">epoch  57: train_d_loss: 0.6249, train_y_loss: -0.0555, train_acc 0.9982\n",
       "</pre>\n"
      ],
      "text/plain": [
       "epoch  57: train_d_loss: 0.6249, train_y_loss: -0.0555, train_acc 0.9982\n"
      ]
     },
     "metadata": {},
     "output_type": "display_data"
    },
    {
     "data": {
      "text/html": [
       "<pre style=\"white-space:pre;overflow-x:auto;line-height:normal;font-family:Menlo,'DejaVu Sans Mono',consolas,'Courier New',monospace\">epoch  58: train_d_loss: 0.6232, train_y_loss: -0.0552, train_acc 0.9982\n",
       "</pre>\n"
      ],
      "text/plain": [
       "epoch  58: train_d_loss: 0.6232, train_y_loss: -0.0552, train_acc 0.9982\n"
      ]
     },
     "metadata": {},
     "output_type": "display_data"
    },
    {
     "data": {
      "text/html": [
       "<pre style=\"white-space:pre;overflow-x:auto;line-height:normal;font-family:Menlo,'DejaVu Sans Mono',consolas,'Courier New',monospace\">epoch  59: train_d_loss: 0.6244, train_y_loss: -0.0552, train_acc 0.9981\n",
       "</pre>\n"
      ],
      "text/plain": [
       "epoch  59: train_d_loss: 0.6244, train_y_loss: -0.0552, train_acc 0.9981\n"
      ]
     },
     "metadata": {},
     "output_type": "display_data"
    },
    {
     "data": {
      "text/html": [
       "<pre style=\"white-space:pre;overflow-x:auto;line-height:normal;font-family:Menlo,'DejaVu Sans Mono',consolas,'Courier New',monospace\">epoch  60: train_d_loss: 0.6265, train_y_loss: -0.0560, train_acc 0.9984\n",
       "</pre>\n"
      ],
      "text/plain": [
       "epoch  60: train_d_loss: 0.6265, train_y_loss: -0.0560, train_acc 0.9984\n"
      ]
     },
     "metadata": {},
     "output_type": "display_data"
    },
    {
     "data": {
      "text/html": [
       "<pre style=\"white-space:pre;overflow-x:auto;line-height:normal;font-family:Menlo,'DejaVu Sans Mono',consolas,'Courier New',monospace\">epoch  61: train_d_loss: 0.6216, train_y_loss: -0.0553, train_acc 0.9984\n",
       "</pre>\n"
      ],
      "text/plain": [
       "epoch  61: train_d_loss: 0.6216, train_y_loss: -0.0553, train_acc 0.9984\n"
      ]
     },
     "metadata": {},
     "output_type": "display_data"
    },
    {
     "data": {
      "text/html": [
       "<pre style=\"white-space:pre;overflow-x:auto;line-height:normal;font-family:Menlo,'DejaVu Sans Mono',consolas,'Courier New',monospace\">epoch  62: train_d_loss: 0.6240, train_y_loss: -0.0556, train_acc 0.9983\n",
       "</pre>\n"
      ],
      "text/plain": [
       "epoch  62: train_d_loss: 0.6240, train_y_loss: -0.0556, train_acc 0.9983\n"
      ]
     },
     "metadata": {},
     "output_type": "display_data"
    },
    {
     "data": {
      "text/html": [
       "<pre style=\"white-space:pre;overflow-x:auto;line-height:normal;font-family:Menlo,'DejaVu Sans Mono',consolas,'Courier New',monospace\">epoch  63: train_d_loss: 0.6300, train_y_loss: -0.0560, train_acc 0.9981\n",
       "</pre>\n"
      ],
      "text/plain": [
       "epoch  63: train_d_loss: 0.6300, train_y_loss: -0.0560, train_acc 0.9981\n"
      ]
     },
     "metadata": {},
     "output_type": "display_data"
    },
    {
     "data": {
      "text/html": [
       "<pre style=\"white-space:pre;overflow-x:auto;line-height:normal;font-family:Menlo,'DejaVu Sans Mono',consolas,'Courier New',monospace\">epoch  64: train_d_loss: 0.6261, train_y_loss: -0.0549, train_acc 0.9983\n",
       "</pre>\n"
      ],
      "text/plain": [
       "epoch  64: train_d_loss: 0.6261, train_y_loss: -0.0549, train_acc 0.9983\n"
      ]
     },
     "metadata": {},
     "output_type": "display_data"
    },
    {
     "data": {
      "text/html": [
       "<pre style=\"white-space:pre;overflow-x:auto;line-height:normal;font-family:Menlo,'DejaVu Sans Mono',consolas,'Courier New',monospace\">epoch  65: train_d_loss: 0.6237, train_y_loss: -0.0555, train_acc 0.9982\n",
       "</pre>\n"
      ],
      "text/plain": [
       "epoch  65: train_d_loss: 0.6237, train_y_loss: -0.0555, train_acc 0.9982\n"
      ]
     },
     "metadata": {},
     "output_type": "display_data"
    },
    {
     "data": {
      "text/html": [
       "<pre style=\"white-space:pre;overflow-x:auto;line-height:normal;font-family:Menlo,'DejaVu Sans Mono',consolas,'Courier New',monospace\">epoch  66: train_d_loss: 0.6198, train_y_loss: -0.0549, train_acc 0.9986\n",
       "</pre>\n"
      ],
      "text/plain": [
       "epoch  66: train_d_loss: 0.6198, train_y_loss: -0.0549, train_acc 0.9986\n"
      ]
     },
     "metadata": {},
     "output_type": "display_data"
    },
    {
     "data": {
      "text/html": [
       "<pre style=\"white-space:pre;overflow-x:auto;line-height:normal;font-family:Menlo,'DejaVu Sans Mono',consolas,'Courier New',monospace\">epoch  67: train_d_loss: 0.6321, train_y_loss: -0.0574, train_acc 0.9985\n",
       "</pre>\n"
      ],
      "text/plain": [
       "epoch  67: train_d_loss: 0.6321, train_y_loss: -0.0574, train_acc 0.9985\n"
      ]
     },
     "metadata": {},
     "output_type": "display_data"
    },
    {
     "data": {
      "text/html": [
       "<pre style=\"white-space:pre;overflow-x:auto;line-height:normal;font-family:Menlo,'DejaVu Sans Mono',consolas,'Courier New',monospace\">epoch  68: train_d_loss: 0.6491, train_y_loss: -0.0580, train_acc 0.9984\n",
       "</pre>\n"
      ],
      "text/plain": [
       "epoch  68: train_d_loss: 0.6491, train_y_loss: -0.0580, train_acc 0.9984\n"
      ]
     },
     "metadata": {},
     "output_type": "display_data"
    },
    {
     "data": {
      "text/html": [
       "<pre style=\"white-space:pre;overflow-x:auto;line-height:normal;font-family:Menlo,'DejaVu Sans Mono',consolas,'Courier New',monospace\">epoch  69: train_d_loss: 0.6300, train_y_loss: -0.0575, train_acc 0.9987\n",
       "</pre>\n"
      ],
      "text/plain": [
       "epoch  69: train_d_loss: 0.6300, train_y_loss: -0.0575, train_acc 0.9987\n"
      ]
     },
     "metadata": {},
     "output_type": "display_data"
    },
    {
     "data": {
      "text/html": [
       "<pre style=\"white-space:pre;overflow-x:auto;line-height:normal;font-family:Menlo,'DejaVu Sans Mono',consolas,'Courier New',monospace\">epoch  70: train_d_loss: 0.6261, train_y_loss: -0.0552, train_acc 0.9981\n",
       "</pre>\n"
      ],
      "text/plain": [
       "epoch  70: train_d_loss: 0.6261, train_y_loss: -0.0552, train_acc 0.9981\n"
      ]
     },
     "metadata": {},
     "output_type": "display_data"
    },
    {
     "data": {
      "text/html": [
       "<pre style=\"white-space:pre;overflow-x:auto;line-height:normal;font-family:Menlo,'DejaVu Sans Mono',consolas,'Courier New',monospace\">epoch  71: train_d_loss: 0.6408, train_y_loss: -0.0584, train_acc 0.9987\n",
       "</pre>\n"
      ],
      "text/plain": [
       "epoch  71: train_d_loss: 0.6408, train_y_loss: -0.0584, train_acc 0.9987\n"
      ]
     },
     "metadata": {},
     "output_type": "display_data"
    },
    {
     "data": {
      "text/html": [
       "<pre style=\"white-space:pre;overflow-x:auto;line-height:normal;font-family:Menlo,'DejaVu Sans Mono',consolas,'Courier New',monospace\">epoch  72: train_d_loss: 0.6354, train_y_loss: -0.0565, train_acc 0.9984\n",
       "</pre>\n"
      ],
      "text/plain": [
       "epoch  72: train_d_loss: 0.6354, train_y_loss: -0.0565, train_acc 0.9984\n"
      ]
     },
     "metadata": {},
     "output_type": "display_data"
    },
    {
     "data": {
      "text/html": [
       "<pre style=\"white-space:pre;overflow-x:auto;line-height:normal;font-family:Menlo,'DejaVu Sans Mono',consolas,'Courier New',monospace\">epoch  73: train_d_loss: 0.6335, train_y_loss: -0.0585, train_acc 0.9987\n",
       "</pre>\n"
      ],
      "text/plain": [
       "epoch  73: train_d_loss: 0.6335, train_y_loss: -0.0585, train_acc 0.9987\n"
      ]
     },
     "metadata": {},
     "output_type": "display_data"
    },
    {
     "data": {
      "text/html": [
       "<pre style=\"white-space:pre;overflow-x:auto;line-height:normal;font-family:Menlo,'DejaVu Sans Mono',consolas,'Courier New',monospace\">epoch  74: train_d_loss: 0.6489, train_y_loss: -0.0577, train_acc 0.9983\n",
       "</pre>\n"
      ],
      "text/plain": [
       "epoch  74: train_d_loss: 0.6489, train_y_loss: -0.0577, train_acc 0.9983\n"
      ]
     },
     "metadata": {},
     "output_type": "display_data"
    },
    {
     "data": {
      "text/html": [
       "<pre style=\"white-space:pre;overflow-x:auto;line-height:normal;font-family:Menlo,'DejaVu Sans Mono',consolas,'Courier New',monospace\">epoch  75: train_d_loss: 0.6379, train_y_loss: -0.0582, train_acc 0.9987\n",
       "</pre>\n"
      ],
      "text/plain": [
       "epoch  75: train_d_loss: 0.6379, train_y_loss: -0.0582, train_acc 0.9987\n"
      ]
     },
     "metadata": {},
     "output_type": "display_data"
    },
    {
     "data": {
      "text/html": [
       "<pre style=\"white-space:pre;overflow-x:auto;line-height:normal;font-family:Menlo,'DejaVu Sans Mono',consolas,'Courier New',monospace\">epoch  76: train_d_loss: 0.6270, train_y_loss: -0.0571, train_acc 0.9987\n",
       "</pre>\n"
      ],
      "text/plain": [
       "epoch  76: train_d_loss: 0.6270, train_y_loss: -0.0571, train_acc 0.9987\n"
      ]
     },
     "metadata": {},
     "output_type": "display_data"
    },
    {
     "data": {
      "text/html": [
       "<pre style=\"white-space:pre;overflow-x:auto;line-height:normal;font-family:Menlo,'DejaVu Sans Mono',consolas,'Courier New',monospace\">epoch  77: train_d_loss: 0.6396, train_y_loss: -0.0582, train_acc 0.9989\n",
       "</pre>\n"
      ],
      "text/plain": [
       "epoch  77: train_d_loss: 0.6396, train_y_loss: -0.0582, train_acc 0.9989\n"
      ]
     },
     "metadata": {},
     "output_type": "display_data"
    },
    {
     "data": {
      "text/html": [
       "<pre style=\"white-space:pre;overflow-x:auto;line-height:normal;font-family:Menlo,'DejaVu Sans Mono',consolas,'Courier New',monospace\">epoch  78: train_d_loss: 0.6416, train_y_loss: -0.0570, train_acc 0.9984\n",
       "</pre>\n"
      ],
      "text/plain": [
       "epoch  78: train_d_loss: 0.6416, train_y_loss: -0.0570, train_acc 0.9984\n"
      ]
     },
     "metadata": {},
     "output_type": "display_data"
    },
    {
     "data": {
      "text/html": [
       "<pre style=\"white-space:pre;overflow-x:auto;line-height:normal;font-family:Menlo,'DejaVu Sans Mono',consolas,'Courier New',monospace\">epoch  79: train_d_loss: 0.6439, train_y_loss: -0.0592, train_acc 0.9988\n",
       "</pre>\n"
      ],
      "text/plain": [
       "epoch  79: train_d_loss: 0.6439, train_y_loss: -0.0592, train_acc 0.9988\n"
      ]
     },
     "metadata": {},
     "output_type": "display_data"
    },
    {
     "data": {
      "text/html": [
       "<pre style=\"white-space:pre;overflow-x:auto;line-height:normal;font-family:Menlo,'DejaVu Sans Mono',consolas,'Courier New',monospace\">epoch  80: train_d_loss: 0.6415, train_y_loss: -0.0591, train_acc 0.9988\n",
       "</pre>\n"
      ],
      "text/plain": [
       "epoch  80: train_d_loss: 0.6415, train_y_loss: -0.0591, train_acc 0.9988\n"
      ]
     },
     "metadata": {},
     "output_type": "display_data"
    },
    {
     "data": {
      "text/html": [
       "<pre style=\"white-space:pre;overflow-x:auto;line-height:normal;font-family:Menlo,'DejaVu Sans Mono',consolas,'Courier New',monospace\">epoch  81: train_d_loss: 0.6376, train_y_loss: -0.0569, train_acc 0.9983\n",
       "</pre>\n"
      ],
      "text/plain": [
       "epoch  81: train_d_loss: 0.6376, train_y_loss: -0.0569, train_acc 0.9983\n"
      ]
     },
     "metadata": {},
     "output_type": "display_data"
    },
    {
     "data": {
      "text/html": [
       "<pre style=\"white-space:pre;overflow-x:auto;line-height:normal;font-family:Menlo,'DejaVu Sans Mono',consolas,'Courier New',monospace\">epoch  82: train_d_loss: 0.6380, train_y_loss: -0.0588, train_acc 0.9989\n",
       "</pre>\n"
      ],
      "text/plain": [
       "epoch  82: train_d_loss: 0.6380, train_y_loss: -0.0588, train_acc 0.9989\n"
      ]
     },
     "metadata": {},
     "output_type": "display_data"
    },
    {
     "data": {
      "text/html": [
       "<pre style=\"white-space:pre;overflow-x:auto;line-height:normal;font-family:Menlo,'DejaVu Sans Mono',consolas,'Courier New',monospace\">epoch  83: train_d_loss: 0.6466, train_y_loss: -0.0579, train_acc 0.9986\n",
       "</pre>\n"
      ],
      "text/plain": [
       "epoch  83: train_d_loss: 0.6466, train_y_loss: -0.0579, train_acc 0.9986\n"
      ]
     },
     "metadata": {},
     "output_type": "display_data"
    },
    {
     "data": {
      "text/html": [
       "<pre style=\"white-space:pre;overflow-x:auto;line-height:normal;font-family:Menlo,'DejaVu Sans Mono',consolas,'Courier New',monospace\">epoch  84: train_d_loss: 0.6318, train_y_loss: -0.0564, train_acc 0.9985\n",
       "</pre>\n"
      ],
      "text/plain": [
       "epoch  84: train_d_loss: 0.6318, train_y_loss: -0.0564, train_acc 0.9985\n"
      ]
     },
     "metadata": {},
     "output_type": "display_data"
    },
    {
     "data": {
      "text/html": [
       "<pre style=\"white-space:pre;overflow-x:auto;line-height:normal;font-family:Menlo,'DejaVu Sans Mono',consolas,'Courier New',monospace\">epoch  85: train_d_loss: 0.6321, train_y_loss: -0.0577, train_acc 0.9987\n",
       "</pre>\n"
      ],
      "text/plain": [
       "epoch  85: train_d_loss: 0.6321, train_y_loss: -0.0577, train_acc 0.9987\n"
      ]
     },
     "metadata": {},
     "output_type": "display_data"
    },
    {
     "data": {
      "text/html": [
       "<pre style=\"white-space:pre;overflow-x:auto;line-height:normal;font-family:Menlo,'DejaVu Sans Mono',consolas,'Courier New',monospace\">epoch  86: train_d_loss: 0.6390, train_y_loss: -0.0589, train_acc 0.9989\n",
       "</pre>\n"
      ],
      "text/plain": [
       "epoch  86: train_d_loss: 0.6390, train_y_loss: -0.0589, train_acc 0.9989\n"
      ]
     },
     "metadata": {},
     "output_type": "display_data"
    },
    {
     "data": {
      "text/html": [
       "<pre style=\"white-space:pre;overflow-x:auto;line-height:normal;font-family:Menlo,'DejaVu Sans Mono',consolas,'Courier New',monospace\">epoch  87: train_d_loss: 0.6392, train_y_loss: -0.0592, train_acc 0.9990\n",
       "</pre>\n"
      ],
      "text/plain": [
       "epoch  87: train_d_loss: 0.6392, train_y_loss: -0.0592, train_acc 0.9990\n"
      ]
     },
     "metadata": {},
     "output_type": "display_data"
    },
    {
     "data": {
      "text/html": [
       "<pre style=\"white-space:pre;overflow-x:auto;line-height:normal;font-family:Menlo,'DejaVu Sans Mono',consolas,'Courier New',monospace\">epoch  88: train_d_loss: 0.6484, train_y_loss: -0.0601, train_acc 0.9989\n",
       "</pre>\n"
      ],
      "text/plain": [
       "epoch  88: train_d_loss: 0.6484, train_y_loss: -0.0601, train_acc 0.9989\n"
      ]
     },
     "metadata": {},
     "output_type": "display_data"
    },
    {
     "data": {
      "text/html": [
       "<pre style=\"white-space:pre;overflow-x:auto;line-height:normal;font-family:Menlo,'DejaVu Sans Mono',consolas,'Courier New',monospace\">epoch  89: train_d_loss: 0.6418, train_y_loss: -0.0582, train_acc 0.9985\n",
       "</pre>\n"
      ],
      "text/plain": [
       "epoch  89: train_d_loss: 0.6418, train_y_loss: -0.0582, train_acc 0.9985\n"
      ]
     },
     "metadata": {},
     "output_type": "display_data"
    },
    {
     "data": {
      "text/html": [
       "<pre style=\"white-space:pre;overflow-x:auto;line-height:normal;font-family:Menlo,'DejaVu Sans Mono',consolas,'Courier New',monospace\">epoch  90: train_d_loss: 0.6422, train_y_loss: -0.0560, train_acc 0.9988\n",
       "</pre>\n"
      ],
      "text/plain": [
       "epoch  90: train_d_loss: 0.6422, train_y_loss: -0.0560, train_acc 0.9988\n"
      ]
     },
     "metadata": {},
     "output_type": "display_data"
    },
    {
     "data": {
      "text/html": [
       "<pre style=\"white-space:pre;overflow-x:auto;line-height:normal;font-family:Menlo,'DejaVu Sans Mono',consolas,'Courier New',monospace\">epoch  91: train_d_loss: 0.6439, train_y_loss: -0.0582, train_acc 0.9986\n",
       "</pre>\n"
      ],
      "text/plain": [
       "epoch  91: train_d_loss: 0.6439, train_y_loss: -0.0582, train_acc 0.9986\n"
      ]
     },
     "metadata": {},
     "output_type": "display_data"
    },
    {
     "data": {
      "text/html": [
       "<pre style=\"white-space:pre;overflow-x:auto;line-height:normal;font-family:Menlo,'DejaVu Sans Mono',consolas,'Courier New',monospace\">epoch  92: train_d_loss: 0.6495, train_y_loss: -0.0600, train_acc 0.9990\n",
       "</pre>\n"
      ],
      "text/plain": [
       "epoch  92: train_d_loss: 0.6495, train_y_loss: -0.0600, train_acc 0.9990\n"
      ]
     },
     "metadata": {},
     "output_type": "display_data"
    },
    {
     "data": {
      "text/html": [
       "<pre style=\"white-space:pre;overflow-x:auto;line-height:normal;font-family:Menlo,'DejaVu Sans Mono',consolas,'Courier New',monospace\">epoch  93: train_d_loss: 0.6518, train_y_loss: -0.0602, train_acc 0.9990\n",
       "</pre>\n"
      ],
      "text/plain": [
       "epoch  93: train_d_loss: 0.6518, train_y_loss: -0.0602, train_acc 0.9990\n"
      ]
     },
     "metadata": {},
     "output_type": "display_data"
    },
    {
     "data": {
      "text/html": [
       "<pre style=\"white-space:pre;overflow-x:auto;line-height:normal;font-family:Menlo,'DejaVu Sans Mono',consolas,'Courier New',monospace\">epoch  94: train_d_loss: 0.6456, train_y_loss: -0.0597, train_acc 0.9990\n",
       "</pre>\n"
      ],
      "text/plain": [
       "epoch  94: train_d_loss: 0.6456, train_y_loss: -0.0597, train_acc 0.9990\n"
      ]
     },
     "metadata": {},
     "output_type": "display_data"
    },
    {
     "data": {
      "text/html": [
       "<pre style=\"white-space:pre;overflow-x:auto;line-height:normal;font-family:Menlo,'DejaVu Sans Mono',consolas,'Courier New',monospace\">epoch  95: train_d_loss: 0.6476, train_y_loss: -0.0612, train_acc 0.9993\n",
       "</pre>\n"
      ],
      "text/plain": [
       "epoch  95: train_d_loss: 0.6476, train_y_loss: -0.0612, train_acc 0.9993\n"
      ]
     },
     "metadata": {},
     "output_type": "display_data"
    },
    {
     "data": {
      "text/html": [
       "<pre style=\"white-space:pre;overflow-x:auto;line-height:normal;font-family:Menlo,'DejaVu Sans Mono',consolas,'Courier New',monospace\">epoch  96: train_d_loss: 0.6427, train_y_loss: -0.0587, train_acc 0.9990\n",
       "</pre>\n"
      ],
      "text/plain": [
       "epoch  96: train_d_loss: 0.6427, train_y_loss: -0.0587, train_acc 0.9990\n"
      ]
     },
     "metadata": {},
     "output_type": "display_data"
    },
    {
     "data": {
      "text/html": [
       "<pre style=\"white-space:pre;overflow-x:auto;line-height:normal;font-family:Menlo,'DejaVu Sans Mono',consolas,'Courier New',monospace\">epoch  97: train_d_loss: 0.6494, train_y_loss: -0.0609, train_acc 0.9990\n",
       "</pre>\n"
      ],
      "text/plain": [
       "epoch  97: train_d_loss: 0.6494, train_y_loss: -0.0609, train_acc 0.9990\n"
      ]
     },
     "metadata": {},
     "output_type": "display_data"
    },
    {
     "data": {
      "text/html": [
       "<pre style=\"white-space:pre;overflow-x:auto;line-height:normal;font-family:Menlo,'DejaVu Sans Mono',consolas,'Courier New',monospace\">epoch  98: train_d_loss: 0.6438, train_y_loss: -0.0580, train_acc 0.9986\n",
       "</pre>\n"
      ],
      "text/plain": [
       "epoch  98: train_d_loss: 0.6438, train_y_loss: -0.0580, train_acc 0.9986\n"
      ]
     },
     "metadata": {},
     "output_type": "display_data"
    },
    {
     "data": {
      "text/html": [
       "<pre style=\"white-space:pre;overflow-x:auto;line-height:normal;font-family:Menlo,'DejaVu Sans Mono',consolas,'Courier New',monospace\">epoch  99: train_d_loss: 0.6468, train_y_loss: -0.0593, train_acc 0.9988\n",
       "</pre>\n"
      ],
      "text/plain": [
       "epoch  99: train_d_loss: 0.6468, train_y_loss: -0.0593, train_acc 0.9988\n"
      ]
     },
     "metadata": {},
     "output_type": "display_data"
    },
    {
     "data": {
      "text/html": [
       "<pre style=\"white-space:pre;overflow-x:auto;line-height:normal;font-family:Menlo,'DejaVu Sans Mono',consolas,'Courier New',monospace\"></pre>\n"
      ],
      "text/plain": []
     },
     "metadata": {},
     "output_type": "display_data"
    }
   ],
   "source": [
    "n_epoches = config_dict['n_epoches']\n",
    "lamb = config_dict['labmda']\n",
    "\n",
    "with Progress(TextColumn('[progress.description]{task.description}'),\n",
    "              BarColumn(),\n",
    "              TextColumn('[progress.percentage]{task.percentage:3.0f}'),\n",
    "              TimeRemainingColumn(),\n",
    "              TimeElapsedColumn()) as progress:\n",
    "    \n",
    "    epoch_tqdm = progress.add_task(description='epoch progress', total=n_epoches)\n",
    "    for epoch in range(n_epoches):\n",
    "\n",
    "        feature_extractor.train()\n",
    "        label_predictor.train()\n",
    "        domain_classifier.train()\n",
    "\n",
    "        train_d_loss, train_y_loss, train_acc = train_epoch(source_loader, target_loader, progress, lamb)\n",
    "\n",
    "        progress.advance(epoch_tqdm, advance=1)\n",
    "\n",
    "        print('epoch {:3d}: train_d_loss: {:6.4f}, train_y_loss: {:6.4f}, train_acc {:6.4f}'.format(epoch, train_d_loss, train_y_loss, train_acc))"
   ]
  },
  {
   "cell_type": "code",
   "execution_count": 19,
   "metadata": {},
   "outputs": [],
   "source": [
    "torch.save(feature_extractor.state_dict(), f'extractor_model.bin')\n",
    "torch.save(label_predictor.state_dict(), f'predictor_model.bin')\n",
    "torch.save(domain_classifier.state_dict(), f'predictor_model.bin')"
   ]
  },
  {
   "cell_type": "code",
   "execution_count": 20,
   "metadata": {},
   "outputs": [
    {
     "data": {
      "application/vnd.jupyter.widget-view+json": {
       "model_id": "58fa1239bb0f4ad3a0db6a4c9211c2c7",
       "version_major": 2,
       "version_minor": 0
      },
      "text/plain": [
       "Output()"
      ]
     },
     "metadata": {},
     "output_type": "display_data"
    },
    {
     "data": {
      "text/html": [
       "<pre style=\"white-space:pre;overflow-x:auto;line-height:normal;font-family:Menlo,'DejaVu Sans Mono',consolas,'Courier New',monospace\"></pre>\n"
      ],
      "text/plain": []
     },
     "metadata": {},
     "output_type": "display_data"
    }
   ],
   "source": [
    "acc_sum = 0.0\n",
    "num = 0.0\n",
    "prediction = []\n",
    "domain_prediction = []\n",
    "\n",
    "feature_extractor.eval()\n",
    "label_predictor.eval()\n",
    "domain_classifier.eval()\n",
    "\n",
    "with Progress(TextColumn('[progress.description]{task.description}'),\n",
    "              BarColumn(),\n",
    "              TextColumn('[progress.percentage]{task.percentage:3.0f}'),\n",
    "              TimeRemainingColumn(),\n",
    "              TimeElapsedColumn()) as progress:\n",
    "    with torch.no_grad():\n",
    "        test_tqdm = progress.add_task(description='prediction progress', total=len(test_loader))\n",
    "\n",
    "        for (test_data, test_label) in test_loader:\n",
    "\n",
    "            test_data, test_label = test_data.to(device), test_label.to(device)\n",
    "            \n",
    "            feature = feature_extractor(test_data)\n",
    "            label_logits = label_predictor(feature)\n",
    "\n",
    "            domain_logits = domain_classifier(feature)\n",
    "            domain_pred = torch.sigmoid(domain_logits) > 0.5\n",
    "            domain_prediction.extend(domain_pred)\n",
    "\n",
    "            pred = torch.argmax(label_logits, dim=1).cpu().detach().numpy()\n",
    "            prediction.append(pred)\n",
    "            acc_sum += torch.sum(torch.argmax(label_logits, dim=1) == test_label).item()\n",
    "            num += test_data.shape[0]\n"
   ]
  },
  {
   "cell_type": "code",
   "execution_count": 21,
   "metadata": {},
   "outputs": [
    {
     "name": "stdout",
     "output_type": "stream",
     "text": [
      "Accurancy for domain classification is tensor([0.6077], device='cuda:0')\n",
      "Final accurancy is 0.4839\n"
     ]
    }
   ],
   "source": [
    "accurancy = acc_sum / num\n",
    "prediction_ = np.concatenate(prediction)\n",
    "\n",
    "domain_acc = 1 - sum(domain_prediction) / len(domain_prediction)\n",
    "print(f'Accurancy for domain classification is {domain_acc}')\n",
    "print(f'Final accurancy is {accurancy}')"
   ]
  },
  {
   "cell_type": "code",
   "execution_count": 22,
   "metadata": {},
   "outputs": [],
   "source": [
    "class Classfier(nn.Module):\n",
    "    def __init__(self):\n",
    "        # inherit attributes and methods of nn.Module\n",
    "        super(Classfier, self).__init__()\n",
    "\n",
    "        self.cnn = nn.Sequential(\n",
    "            # Input size is [32, 32, 1]\n",
    "            self.cnn_layer(in_channels=1, out_channels=64),     # [16, 16, 64]\n",
    "\n",
    "            self.cnn_layer(in_channels=64, out_channels=128),       # [8, 8, 128]\n",
    "\n",
    "            self.cnn_layer(in_channels=128, out_channels=256),      # [4, 4, 256]\n",
    "\n",
    "            self.cnn_layer(in_channels=256, out_channels=512),       # [2, 2, 512]\n",
    "\n",
    "            self.cnn_layer(in_channels=512, out_channels=512)        # [1, 1, 512]\n",
    "        )\n",
    "\n",
    "        self.fc = nn.Sequential(\n",
    "            nn.Linear(512, 512),\n",
    "            nn.ReLU(),\n",
    "            nn.Linear(512, 512),\n",
    "            nn.ReLU(),\n",
    "            nn.Linear(512, 10)\n",
    "        )\n",
    "\n",
    "    def cnn_layer(self, in_channels, out_channels, kernel_size=3, stride=1, padding=1, \n",
    "                  pooling_kernel_size=2, pooling_stride=2, pooling_padding=0):\n",
    "        \"\"\"\n",
    "        Create a default CNN layer. In and out channels are required parameters\n",
    "        Parameters:\n",
    "        - in_channels: Number of input channels.\n",
    "        - out_channels: Number of output filter channels.\n",
    "        - kernel_size: Size of the convolutional kernel.\n",
    "        - stride: Stride of the convolution.\n",
    "        - padding: Padding value added to the input.\n",
    "        - pooling_kernel_size: Size of the maxpooling kernel.\n",
    "        - pooling_stride: Stride of the maxpooling.\n",
    "        - pooing_padding: Padding value added to the convolution output channel.\n",
    "\n",
    "        Returns:\n",
    "        - nn.Sequential: A block with convolution layer and pooling layer.\n",
    "        \"\"\"\n",
    "\n",
    "        return nn.Sequential(\n",
    "            nn.Conv2d(in_channels, out_channels, kernel_size, stride, padding),\n",
    "            # nn.BatchNorm2d(out_channels, eps=1e-05, momentum=0.1),\n",
    "            nn.BatchNorm2d(out_channels),\n",
    "            nn.ReLU(),\n",
    "            nn.MaxPool2d(pooling_kernel_size, pooling_stride, pooling_padding)\n",
    "        )\n",
    "    \n",
    "    def forward(self, x):\n",
    "\n",
    "        filter = self.cnn(x)\n",
    "        filter = filter.view(filter.size()[0], -1)\n",
    "\n",
    "        return self.fc(filter)"
   ]
  },
  {
   "cell_type": "code",
   "execution_count": 23,
   "metadata": {},
   "outputs": [
    {
     "name": "stderr",
     "output_type": "stream",
     "text": [
      "/tmp/ipykernel_317/391167992.py:3: FutureWarning: You are using `torch.load` with `weights_only=False` (the current default value), which uses the default pickle module implicitly. It is possible to construct malicious pickle data which will execute arbitrary code during unpickling (See https://github.com/pytorch/pytorch/blob/main/SECURITY.md#untrusted-models for more details). In a future release, the default value for `weights_only` will be flipped to `True`. This limits the functions that could be executed during unpickling. Arbitrary objects will no longer be allowed to be loaded via this mode unless they are explicitly allowlisted by the user via `torch.serialization.add_safe_globals`. We recommend you start setting `weights_only=True` for any use case where you don't have full control of the loaded file. Please open an issue on GitHub for any issues related to this experimental feature.\n",
      "  CNN_model.load_state_dict(torch.load(f\"mnist_best.ckpt\"))\n"
     ]
    },
    {
     "data": {
      "application/vnd.jupyter.widget-view+json": {
       "model_id": "854da741797d45e795df0b57022c47fc",
       "version_major": 2,
       "version_minor": 0
      },
      "text/plain": [
       "  0%|          | 0/79 [00:00<?, ?it/s]"
      ]
     },
     "metadata": {},
     "output_type": "display_data"
    },
    {
     "name": "stdout",
     "output_type": "stream",
     "text": [
      "CNN model accurancy is 0.09711234271526337\n"
     ]
    }
   ],
   "source": [
    "CNN_model = Classfier().to(device)\n",
    "# Load the model of the best performance\n",
    "CNN_model.load_state_dict(torch.load(f\"mnist_best.ckpt\"))\n",
    "CNN_model.eval()\n",
    "test_acc = []\n",
    "\n",
    "with torch.no_grad():\n",
    "    \n",
    "    for batch in tqdm(test_loader):\n",
    "\n",
    "        data, label = batch\n",
    "        data, label = data.to(device), label.to(device)\n",
    "\n",
    "        pred = CNN_model(data.to(device))\n",
    "        \n",
    "        acc = (pred.argmax(dim=-1) == label).cpu().float().mean()\n",
    "        test_acc.append(acc)\n",
    "\n",
    "test_acc = sum(test_acc) / len(test_acc)\n",
    "print(f'CNN model accurancy is {test_acc}')"
   ]
  }
 ],
 "metadata": {
  "kernelspec": {
   "display_name": "cuda",
   "language": "python",
   "name": "python3"
  },
  "language_info": {
   "codemirror_mode": {
    "name": "ipython",
    "version": 3
   },
   "file_extension": ".py",
   "mimetype": "text/x-python",
   "name": "python",
   "nbconvert_exporter": "python",
   "pygments_lexer": "ipython3",
   "version": "3.10.15"
  }
 },
 "nbformat": 4,
 "nbformat_minor": 2
}
