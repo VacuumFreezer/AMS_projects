{
 "cells": [
  {
   "cell_type": "markdown",
   "metadata": {},
   "source": [
    "# Hw4 QR iteration\n",
    "We use QR iteration with shifts to find eigenvalues and eigenvectors of a matrix"
   ]
  },
  {
   "cell_type": "code",
   "execution_count": 144,
   "metadata": {},
   "outputs": [],
   "source": [
    "import numpy as np\n",
    "import scipy.linalg as lin\n",
    "from collections import deque\n",
    "import copy"
   ]
  },
  {
   "cell_type": "markdown",
   "metadata": {},
   "source": [
    "First, we should transform the original matrix into Hessenburg form, which means all entries under subdiagonal are zero. This can be implemented by using Householder reflector, which transform one column at one time. Dont forget to multiple Q on the right side. Since eventually we use exact eigenvalue to find eigenvectors, the Q still dont need to be constructed explictly,\n",
    "$$\n",
    "H = Q^*AQ\n",
    "$$"
   ]
  },
  {
   "cell_type": "code",
   "execution_count": 145,
   "metadata": {},
   "outputs": [],
   "source": [
    "def Hessenburg_reduction(A:np.ndarray) -> np.ndarray:\n",
    "    n = A.shape[0]\n",
    "\n",
    "    for k in range(0, n-2):\n",
    "        x = A[k+1:, k] # Do not act on all rows\n",
    "        e = np.zeros_like(x)\n",
    "        e[0] = np.linalg.norm(x) \n",
    "        v_k = np.sign(x[0])*e + x # Choose the reflector which is further from x \n",
    "        v_k = v_k / np.linalg.norm(v_k)\n",
    "        A[k+1:, k:] = A[k+1:, k:] - 2 * np.outer(v_k, v_k.T @ A[k+1:, k:])\n",
    "        A[:, k+1:] = A[:, k+1:] - 2 * np.outer(A[:, k+1:] @ v_k, v_k.T) # Multiple Q on the right\n",
    "\n",
    "    return A"
   ]
  },
  {
   "cell_type": "markdown",
   "metadata": {},
   "source": [
    "Then we define the itertion step. \n",
    "1. Choose the corner entry as single shift: $ \\mu = a_{n,n} $.\n",
    "2. Use built-in function to compute QR factorization: $ Q_k R_k=A_k-\\mu I$.\n",
    "3. Update A: $ A_{k+1} = R_k Q_k + \\mu T$."
   ]
  },
  {
   "cell_type": "code",
   "execution_count": 146,
   "metadata": {},
   "outputs": [],
   "source": [
    "def iteration_step(A_k:np.ndarray) -> np.ndarray:\n",
    "    n = A_k.shape[0]\n",
    "    shift = A_k[n-1, n-1]\n",
    "    Q_k, R_k = lin.qr(A_k - shift * np.eye(n))\n",
    "    A_kpls1 = R_k @ Q_k + shift * np.eye(n)\n",
    "\n",
    "    return A_kpls1"
   ]
  },
  {
   "cell_type": "markdown",
   "metadata": {},
   "source": [
    "Our final goal is the Schur factorization, so when subdiagonal entry equals zero, we can divide the matrix into two smaller part and continue the iteration separately. Here when subdiagonal is singnificantlt smaller than diagonal entries times unit roundoff(from MC 7.5.2) it is regarded zero."
   ]
  },
  {
   "cell_type": "code",
   "execution_count": 147,
   "metadata": {},
   "outputs": [],
   "source": [
    "def deflation(A:np.ndarray):\n",
    "    # Since this function can have one or two outputs, we reture a list to use extend method for the queue\n",
    "    n = A.shape[0]\n",
    "    unit_roundoff = 1E-16\n",
    "    c = 1 # A samll constant\n",
    "    if n == 1:\n",
    "        return [A]\n",
    "    else:\n",
    "        for p in range(n-1):\n",
    "            if abs(A[p+1, p]) <= c * unit_roundoff * (abs(A[p, p]) + abs(A[p+1, p+1])):\n",
    "                return [A[:p+1, :p+1], A[p+1:, p+1:]]\n",
    "            else:\n",
    "                return [A]"
   ]
  },
  {
   "cell_type": "code",
   "execution_count": 148,
   "metadata": {},
   "outputs": [],
   "source": [
    "# def is_upper_triangular(matrix, threshold=1e-15):\n",
    "#     lower_triangle = np.tril(matrix, k=-1)\n",
    "#     return np.all(lower_triangle < threshold)"
   ]
  },
  {
   "cell_type": "code",
   "execution_count": 149,
   "metadata": {},
   "outputs": [],
   "source": [
    "# def gen_orth(Q_k:np.ndarray, d_eye:int, d_q:int, n:int) -> np.ndarray:\n",
    "#     d_remain = n - d_eye - d_q\n",
    "#     identity_ul = np.eye(d_eye)\n",
    "#     zero_up = np.zeros((d_eye, d_q))\n",
    "#     zero_left = np.zeros((d_q, d_eye))\n",
    "#     identity_dr = np.eye(d_remain, d_remain)\n",
    "#     zero_ur = np.zeros((d_eye + d_q, d_remain))\n",
    "#     zero_dl = np.zeros((d_remain, d_eye + d_q))\n",
    "#     ul = np.block([\n",
    "#         [identity_ul, zero_up],\n",
    "#         [zero_left, Q_k]\n",
    "#     ])\n",
    "#     return np.block([\n",
    "#         [ul, zero_ur],\n",
    "#         [zero_dl, identity_dr]\n",
    "#     ])"
   ]
  },
  {
   "cell_type": "markdown",
   "metadata": {},
   "source": [
    "The iteration is based on queue: each step iterate the leftmost element in a queue and then delete it. The result of one iteration, maybe deflated, will be filled into the queue by order, and then go through the queue. When the length of queue after one loop equals the dimension of the matrix, which means it has been completely deflated into single diagonal entries, and it's exactly the eigenvalues, exit the outer while loop."
   ]
  },
  {
   "cell_type": "code",
   "execution_count": 150,
   "metadata": {},
   "outputs": [],
   "source": [
    "def iteration(initial:np.ndarray) -> tuple[np.ndarray, np.ndarray]:\n",
    "    H = Hessenburg_reduction(initial)\n",
    "    queue = deque([H])  # Initilization\n",
    "    n = initial.shape[0]\n",
    "    while queue and (len(queue) != n):\n",
    "        # print('length queue is', len(queue))\n",
    "        next_queue = deque()\n",
    "\n",
    "        while queue:\n",
    "            current_it = queue.popleft() # Automatically delete the leftmost element\n",
    "            A_kpls1 = iteration_step(current_it)\n",
    "            next_queue.extend(deflation(A_kpls1))\n",
    "\n",
    "        queue = next_queue\n",
    "\n",
    "    return queue\n"
   ]
  },
  {
   "cell_type": "markdown",
   "metadata": {},
   "source": [
    "Once we get very accurate eigenvalues, we can use just several inverse iterations to get the eigenvectors. We introduce a small perturbation to make the shift matrix non-singular. When the norm of $ (A-\\lambda_i I)v_k $ is smaller than a threshold, reture $v_k$ as the eigenvector."
   ]
  },
  {
   "cell_type": "code",
   "execution_count": 151,
   "metadata": {},
   "outputs": [],
   "source": [
    "def inverse_iter(A:np.ndarray, lambda_i:np.complex128) -> np.ndarray:\n",
    "    n = A.shape[0]\n",
    "    v_k = np.zeros((n,1))\n",
    "    v_k[0] = 1.0\n",
    "    perturbation = 1e-6\n",
    "    shift = lambda_i + perturbation\n",
    "    while lin.norm((A - lambda_i * np.eye(n)) @ v_k) > 1e-12:\n",
    "        omega = lin.solve(A - shift * np.eye(n), v_k)\n",
    "        v_k = omega / lin.norm(omega)\n",
    "        # print(v_k)\n",
    "\n",
    "    return v_k"
   ]
  },
  {
   "cell_type": "code",
   "execution_count": 152,
   "metadata": {},
   "outputs": [
    {
     "name": "stdout",
     "output_type": "stream",
     "text": [
      "Computed eigenvalue is \n",
      " [11.+0.j -3.+0.j -2.+0.j]\n",
      "True eigenvalue is \n",
      " [11.+0.j -2.+0.j -3.+0.j]\n",
      "Computed eigenvector is \n",
      " [[ 3.71390676e-01+0.j -4.65661286e-17+0.j  1.82574186e-01+0.j]\n",
      " [ 7.42781353e-01+0.j  5.54700196e-01+0.j  3.65148372e-01+0.j]\n",
      " [ 5.57086015e-01+0.j -8.32050294e-01+0.j -9.12870929e-01+0.j]]\n",
      "True eigenvector is \n",
      " [[ 3.71390676e-01-0.j -1.82574186e-01+0.j -3.48372238e-16+0.j]\n",
      " [ 7.42781353e-01+0.j -3.65148372e-01+0.j -5.54700196e-01+0.j]\n",
      " [ 5.57086015e-01-0.j  9.12870929e-01+0.j  8.32050294e-01+0.j]]\n"
     ]
    }
   ],
   "source": [
    "test_A = np.array([[2, 3, 2],\n",
    "          [10, 3, 4],\n",
    "          [3, 6, 1]], dtype=np.complex128)\n",
    "dim = test_A.shape[0]\n",
    "# Householder triangularization will change the initial matrix, so create a copy\n",
    "A_0 = copy.deepcopy(test_A)\n",
    "eigenvalues = iteration(A_0)\n",
    "eigenvalues = np.squeeze(eigenvalues)  #  Get rid of the redundant dimension introduced in the return of deflation\n",
    "# print(test_A)\n",
    "true_eigenvalues, true_eigenvectors = lin.eig(test_A)\n",
    "print(\"Computed eigenvalue is \\n\", eigenvalues)\n",
    "print(\"True eigenvalue is \\n\", true_eigenvalues)\n",
    "eig_vector = np.column_stack([inverse_iter(test_A, eigenvalues[i]) for i in range(0, dim)])\n",
    "print('Computed eigenvector is \\n', eig_vector)\n",
    "print('True eigenvector is \\n', true_eigenvectors)"
   ]
  },
  {
   "cell_type": "code",
   "execution_count": 154,
   "metadata": {},
   "outputs": [
    {
     "name": "stdout",
     "output_type": "stream",
     "text": [
      "Computed eigenvalue is \n",
      " [7.28799214+0.j 2.13307448+0.j 0.57893339+0.j]\n",
      "True eigenvalue is \n",
      " [7.28799214+0.j 2.13307448+0.j 0.57893339+0.j]\n",
      "Computed eigenvector is \n",
      " [[ 0.86643225+0.j  0.49742503+0.j -0.0431682 +0.j]\n",
      " [ 0.45305757+0.j -0.8195891 +0.j -0.35073145+0.j]\n",
      " [ 0.20984279+0.j -0.28432735+0.j  0.9354806 +0.j]]\n",
      "True eigenvector is \n",
      " [[ 0.86643225+0.j -0.49742503+0.j -0.0431682 +0.j]\n",
      " [ 0.45305757+0.j  0.8195891 +0.j -0.35073145+0.j]\n",
      " [ 0.20984279+0.j  0.28432735+0.j  0.9354806 +0.j]]\n"
     ]
    }
   ],
   "source": [
    "test_B = np.array([[6, 2, 1],\n",
    "          [2, 3, 1],\n",
    "          [1, 1, 1]], dtype=np.complex128)\n",
    "dim = test_B.shape[0]\n",
    "# Householder triangularization will change the initial matrix, so create a copy\n",
    "B_0 = copy.deepcopy(test_B)\n",
    "eigenvalues = iteration(B_0)\n",
    "eigenvalues = np.squeeze(eigenvalues)  #  Get rid of the redundant dimension introduced in the return of deflation\n",
    "# print(test_A)\n",
    "true_eigenvalues, true_eigenvectors = lin.eig(test_B)\n",
    "print(\"Computed eigenvalue is \\n\", eigenvalues)\n",
    "print(\"True eigenvalue is \\n\", true_eigenvalues)\n",
    "eig_vector = np.column_stack([inverse_iter(test_B, eigenvalues[i]) for i in range(0, dim)])\n",
    "print('Computed eigenvector is \\n', eig_vector)\n",
    "print('True eigenvector is \\n', true_eigenvectors)"
   ]
  },
  {
   "cell_type": "markdown",
   "metadata": {},
   "source": [
    "The experiment shows that our implement matches the built-in method in high precision."
   ]
  }
 ],
 "metadata": {
  "kernelspec": {
   "display_name": "madminer",
   "language": "python",
   "name": "python3"
  },
  "language_info": {
   "codemirror_mode": {
    "name": "ipython",
    "version": 3
   },
   "file_extension": ".py",
   "mimetype": "text/x-python",
   "name": "python",
   "nbconvert_exporter": "python",
   "pygments_lexer": "ipython3",
   "version": "3.10.13"
  }
 },
 "nbformat": 4,
 "nbformat_minor": 2
}
