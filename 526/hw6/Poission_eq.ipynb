{
 "cells": [
  {
   "cell_type": "code",
   "execution_count": 73,
   "metadata": {},
   "outputs": [],
   "source": [
    "import numpy as np\n",
    "\n",
    "def conjugate_gradient(A, b, tol=1e-8, max_iter=1000):\n",
    "    \"\"\"\n",
    "    Conjugate Gradient Method for solving Ax = b.\n",
    "    \"\"\"\n",
    "    x = np.zeros(b.shape)\n",
    "    r = b - np.dot(A, x)\n",
    "    p = r.copy()\n",
    "    rs_old = np.dot(r, r)\n",
    "    \n",
    "    for i in range(max_iter):\n",
    "        Ap = np.dot(A, p)\n",
    "        alpha = rs_old / np.dot(p, Ap)\n",
    "        x += alpha * p\n",
    "        r -= alpha * Ap\n",
    "        rs_new = np.dot(r, r)\n",
    "        if np.sqrt(rs_new) < tol:\n",
    "            break\n",
    "        beta = rs_new / rs_old\n",
    "        p = r + beta * p\n",
    "        rs_old = rs_new\n",
    "    \n",
    "    return x, i+1\n",
    "\n",
    "def jacobi_preconditioner(A):\n",
    "    \"\"\"\n",
    "    Creates a Jacobi preconditioner for matrix A.\n",
    "    \"\"\"\n",
    "    M = np.diag(1 / np.diag(A))\n",
    "    return M\n",
    "\n",
    "def ssor_preconditioner(A, omega=1.0):\n",
    "    \"\"\"\n",
    "    Creates an SSOR preconditioner for matrix A with relaxation factor omega.\n",
    "    \"\"\"\n",
    "    D = np.diag(np.diag(A))\n",
    "    L = np.tril(A, -1)\n",
    "    U = np.triu(A, 1)\n",
    "    M_inv = np.linalg.inv(D + omega * L) @ D @ np.linalg.inv(D + omega * U)\n",
    "    return M_inv\n",
    "\n",
    "def preconditioned_conjugate_gradient(A, b, M_inv, tol=1e-8, max_iter=1000):\n",
    "    \"\"\"\n",
    "    Preconditioned Conjugate Gradient Method for solving Ax = b.\n",
    "    \"\"\"\n",
    "    x = np.zeros(b.shape)\n",
    "    r = b - np.dot(A, x)\n",
    "    z = np.dot(M_inv, r)\n",
    "    p = z.copy()\n",
    "    rs_old = np.dot(r, z)\n",
    "    \n",
    "    for i in range(max_iter):\n",
    "        Ap = np.dot(A, p)\n",
    "        alpha = rs_old / np.dot(p, Ap)\n",
    "        x += alpha * p\n",
    "        r -= alpha * Ap\n",
    "        z = M_inv @ r\n",
    "        rs_new = np.dot(r, z)\n",
    "        if np.sqrt(rs_new) < tol:\n",
    "            break\n",
    "        beta = rs_new / rs_old\n",
    "        p = z + beta * p\n",
    "        rs_old = rs_new\n",
    "    \n",
    "    return x, i+1"
   ]
  },
  {
   "cell_type": "code",
   "execution_count": 74,
   "metadata": {},
   "outputs": [],
   "source": [
    "def create_problem_matrix(n):\n",
    "    \"\"\"\n",
    "    Create the matrix A and vector b for the problem.\n",
    "    \"\"\"\n",
    "    h = 1 / (n + 1)\n",
    "    size = n * n\n",
    "    A = np.zeros((size, size))\n",
    "    b = h**2 * np.ones(size)\n",
    "    \n",
    "    for i in range(n):\n",
    "        for j in range(n):\n",
    "            idx = i * n + j\n",
    "            A[idx, idx] = 4 + h**2\n",
    "            if i > 0:  # -I on the subdiagonal\n",
    "                A[idx, idx - n] = -1\n",
    "            if i < n - 1:  #  -I on the superdiagonal\n",
    "                A[idx, idx + n] = -1\n",
    "            if j > 0:  # -1 on the subdiagonal of D\n",
    "                A[idx, idx - 1] = -1\n",
    "            if j < n - 1:  # -1 on the superiagonal of D\n",
    "                A[idx, idx + 1] = -1\n",
    "    \n",
    "    return A, b\n"
   ]
  },
  {
   "cell_type": "code",
   "execution_count": 75,
   "metadata": {},
   "outputs": [],
   "source": [
    "def compare_methods(n):\n",
    "    \"\"\"\n",
    "    Compare the performance of CG, Jacobi-PCG, and SSOR-PCG for the given n.\n",
    "    \"\"\"\n",
    "    A, b = create_problem_matrix(n)\n",
    "    \n",
    "    _, cg_iters = conjugate_gradient(A, b)\n",
    "    \n",
    "    M_inv_jacobi = jacobi_preconditioner(A)\n",
    "    _, pcg_jacobi_iters = preconditioned_conjugate_gradient(A, b, M_inv_jacobi)\n",
    "    \n",
    "    M_inv_ssor = ssor_preconditioner(A)\n",
    "    _, pcg_ssor_iters = preconditioned_conjugate_gradient(A, b, M_inv_ssor)\n",
    "    \n",
    "    return f'CG:{cg_iters}', f'Jacobi:{pcg_jacobi_iters}', f'SSOR:{pcg_ssor_iters}'"
   ]
  },
  {
   "cell_type": "code",
   "execution_count": 76,
   "metadata": {},
   "outputs": [
    {
     "name": "stdout",
     "output_type": "stream",
     "text": [
      "{8: ('CG:10', 'Jacobi:10', 'SSOR:10'), 16: ('CG:26', 'Jacobi:26', 'SSOR:16'), 32: ('CG:53', 'Jacobi:52', 'SSOR:28')}\n"
     ]
    }
   ],
   "source": [
    "results = {}\n",
    "for n in [8, 16, 32]:\n",
    "    results[n] = compare_methods(n)\n",
    "print(results)"
   ]
  }
 ],
 "metadata": {
  "kernelspec": {
   "display_name": "cuda",
   "language": "python",
   "name": "python3"
  },
  "language_info": {
   "codemirror_mode": {
    "name": "ipython",
    "version": 3
   },
   "file_extension": ".py",
   "mimetype": "text/x-python",
   "name": "python",
   "nbconvert_exporter": "python",
   "pygments_lexer": "ipython3",
   "version": "3.10.15"
  }
 },
 "nbformat": 4,
 "nbformat_minor": 2
}
