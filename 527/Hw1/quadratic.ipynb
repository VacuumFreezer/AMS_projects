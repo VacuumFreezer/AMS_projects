{
 "cells": [
  {
   "cell_type": "code",
   "execution_count": 23,
   "metadata": {},
   "outputs": [],
   "source": [
    "import numpy as np\n",
    "import pandas as pd"
   ]
  },
  {
   "cell_type": "code",
   "execution_count": 24,
   "metadata": {},
   "outputs": [],
   "source": [
    "# Decorator to ensure double precision\n",
    "def double_dec(func):\n",
    "    def wrapper(*args):\n",
    "        args = tuple(np.double(arg) for arg in args)\n",
    "\n",
    "        result = func(*args)\n",
    "\n",
    "        for element in result:\n",
    "            if not isinstance(element, str):\n",
    "                element = np.double(element)\n",
    "        return result\n",
    "    return wrapper"
   ]
  },
  {
   "cell_type": "code",
   "execution_count": 25,
   "metadata": {},
   "outputs": [],
   "source": [
    "@double_dec\n",
    "def simple_solver(a, b, c):\n",
    "\n",
    "    delta = b**2 -4*a*c\n",
    "    if delta < 0:\n",
    "        return 'N/A', 'N/A'\n",
    "    \n",
    "    sq_delta = np.sqrt(delta)\n",
    "    root1 = (-b + sq_delta) / (2 * a)\n",
    "    root2 = (-b - sq_delta) / (2 * a)\n",
    "    \n",
    "    return root1, root2"
   ]
  },
  {
   "cell_type": "code",
   "execution_count": 26,
   "metadata": {},
   "outputs": [],
   "source": [
    "coefficients = [\n",
    "    (6, 5, -4),\n",
    "    (6e154, 5e154, -4e154),\n",
    "    (0, 1, 1),\n",
    "    (1, -1e5, 1),\n",
    "    (1, -4, 3.999999),\n",
    "    (1e-155, -1e155, 1e155),\n",
    "]"
   ]
  },
  {
   "cell_type": "code",
   "execution_count": 27,
   "metadata": {},
   "outputs": [
    {
     "name": "stdout",
     "output_type": "stream",
     "text": [
      "               a              b              c       Root 1    Root 2\n",
      "0   6.000000e+00   5.000000e+00  -4.000000e+00      0.50000 -1.333333\n",
      "1  6.000000e+154  5.000000e+154 -4.000000e+154          inf      -inf\n",
      "2   0.000000e+00   1.000000e+00   1.000000e+00          NaN      -inf\n",
      "3   1.000000e+00  -1.000000e+05   1.000000e+00  99999.99999  0.000010\n",
      "4   1.000000e+00  -4.000000e+00   3.999999e+00      2.00100  1.999000\n",
      "5  1.000000e-155 -1.000000e+155  1.000000e+155          inf      -inf\n"
     ]
    },
    {
     "name": "stderr",
     "output_type": "stream",
     "text": [
      "/tmp/ipykernel_269/3453739440.py:4: RuntimeWarning: overflow encountered in scalar power\n",
      "  delta = b**2 -4*a*c\n",
      "/tmp/ipykernel_269/3453739440.py:4: RuntimeWarning: overflow encountered in scalar multiply\n",
      "  delta = b**2 -4*a*c\n",
      "/tmp/ipykernel_269/3453739440.py:9: RuntimeWarning: invalid value encountered in scalar divide\n",
      "  root1 = (-b + sq_delta) / (2 * a)\n",
      "/tmp/ipykernel_269/3453739440.py:10: RuntimeWarning: divide by zero encountered in scalar divide\n",
      "  root2 = (-b - sq_delta) / (2 * a)\n"
     ]
    }
   ],
   "source": [
    "simple_solutions = [simple_solver(a, b, c) for a, b, c in coefficients]\n",
    "\n",
    "sim_df = pd.DataFrame(coefficients, columns=[\"a\", \"b\", \"c\"])\n",
    "sim_df[\"Root 1\"], sim_df[\"Root 2\"] = zip(*simple_solutions)\n",
    "\n",
    "print(sim_df)"
   ]
  },
  {
   "cell_type": "code",
   "execution_count": 32,
   "metadata": {},
   "outputs": [],
   "source": [
    "@double_dec\n",
    "def solver(a, b, c):\n",
    "    # Normalize the coefficient\n",
    "    nor_factor = max(abs(a), abs(b), abs(c))\n",
    "    a, b, c = a/nor_factor, b/nor_factor, c/nor_factor\n",
    "\n",
    "    # The min number of a double precision is about 1e-138. Abs smaller than this will underflow to zero\n",
    "    min_range = 1e-308\n",
    "    if abs(a) < min_range:\n",
    "        if abs(b) < min_range:\n",
    "            return 'No solution', 'No solution' if c != 0 else 'Any real number', 'Any real number' \n",
    "        else:\n",
    "            return (-c / b), 'N/A'\n",
    "\n",
    "\n",
    "    delta = b**2 -4*a*c\n",
    "    if delta < 0:\n",
    "        return 'N/A', 'N/A'\n",
    "    \n",
    "    sq_delta = np.sqrt(delta)\n",
    "    \n",
    "    # Square root of machine epslion is about 1e-8, so difference smaller than this should consider cancellation error\n",
    "    tol = 2e-8\n",
    "    if abs(sq_delta - b) < tol:\n",
    "        root1 = (2*c) / (-b - sq_delta)\n",
    "    else:\n",
    "        root1 = (-b + sq_delta) / (2 * a)\n",
    "\n",
    "    if abs(-b - sq_delta) < tol:\n",
    "        root2 = (2*c) / (-b + sq_delta)\n",
    "    else:\n",
    "        root2 = (-b - sq_delta) / (2 * a)\n",
    "\n",
    "    return root1, root2"
   ]
  },
  {
   "cell_type": "code",
   "execution_count": 35,
   "metadata": {},
   "outputs": [
    {
     "name": "stdout",
     "output_type": "stream",
     "text": [
      "               a              b              c       Root 1    Root 2\n",
      "0   6.000000e+00   5.000000e+00  -4.000000e+00      0.50000 -1.333333\n",
      "1  6.000000e+154  5.000000e+154 -4.000000e+154      0.50000 -1.333333\n",
      "2   0.000000e+00   1.000000e+00   1.000000e+00     -1.00000       N/A\n",
      "3   1.000000e+00  -1.000000e+05   1.000000e+00  99999.99999   0.00001\n",
      "4   1.000000e+00  -4.000000e+00   3.999999e+00      2.00100     1.999\n",
      "5  1.000000e-155 -1.000000e+155  1.000000e+155      1.00000       N/A\n"
     ]
    }
   ],
   "source": [
    "solutions = [solver(a, b, c) for a, b, c in coefficients]\n",
    "\n",
    "df = pd.DataFrame(coefficients, columns=[\"a\", \"b\", \"c\"])\n",
    "df[\"Root 1\"], df[\"Root 2\"] = zip(*solutions)\n",
    "\n",
    "df.to_csv('approx solution.csv', index=False)\n",
    "print(df)"
   ]
  }
 ],
 "metadata": {
  "kernelspec": {
   "display_name": "madminer",
   "language": "python",
   "name": "python3"
  },
  "language_info": {
   "codemirror_mode": {
    "name": "ipython",
    "version": 3
   },
   "file_extension": ".py",
   "mimetype": "text/x-python",
   "name": "python",
   "nbconvert_exporter": "python",
   "pygments_lexer": "ipython3",
   "version": "3.10.15"
  }
 },
 "nbformat": 4,
 "nbformat_minor": 2
}
