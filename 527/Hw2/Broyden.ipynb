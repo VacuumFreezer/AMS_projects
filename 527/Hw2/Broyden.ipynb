{
 "cells": [
  {
   "cell_type": "code",
   "execution_count": 98,
   "metadata": {},
   "outputs": [],
   "source": [
    "import numpy as np"
   ]
  },
  {
   "cell_type": "code",
   "execution_count": 99,
   "metadata": {},
   "outputs": [],
   "source": [
    "def ground_state(vars):\n",
    "    x, y = vars\n",
    "    s = 3.5\n",
    "    return [x / np.tan(x) + y, x**2 + y**2 - s**2]\n",
    "\n",
    "def excited_state(vars):\n",
    "    x, y = vars\n",
    "    s = 3.5\n",
    "    return [1 / (x * np.tan(x)) - 1 / x**2 - 1 / y - 1 / y**2, x**2 + y**2 - s**2]"
   ]
  },
  {
   "cell_type": "code",
   "execution_count": 100,
   "metadata": {},
   "outputs": [],
   "source": [
    "def broyden_method(f, x_0, B_0, tol_f=1e-7, tol_s=1e-7, max_iter=300):\n",
    "    x_k = np.array(x_0, dtype=float)\n",
    "    B_k = B_0\n",
    "    F_k = f(x_0)\n",
    "    y_k = 0\n",
    "\n",
    "    for _ in range(max_iter):\n",
    "\n",
    "        s_k = -np.linalg.solve(B_k, F_k)\n",
    "        x_k += s_k\n",
    "        F_kp1 = f(x_k)\n",
    "        if (np.linalg.norm(F_kp1) < tol_f) and (np.linalg.norm(s_k) < tol_s):\n",
    "            break\n",
    "\n",
    "        y_k = np.subtract(F_kp1, F_k)\n",
    "        F_k = F_kp1\n",
    "\n",
    "        B_k += np.outer((y_k - B_k @ s_k), s_k) / np.dot(s_k, s_k)\n",
    "\n",
    "    return x_k"
   ]
  },
  {
   "cell_type": "code",
   "execution_count": 103,
   "metadata": {},
   "outputs": [],
   "source": [
    "def newton_method(f, x0, tol_f=1e-7, tol_s=1e-7, max_iter=300):\n",
    "    x_k = np.array(x0, dtype=float)\n",
    "\n",
    "    for _ in range(max_iter):\n",
    "        J = np.zeros((len(x_k), len(x_k)))\n",
    "        h = 1e-6  \n",
    "        F_k = f(x_k)\n",
    "        for i in range(len(x0)):\n",
    "            x_temp = x_k.copy()\n",
    "            x_temp[i] += h\n",
    "            J[:, i] = (np.subtract(f(x_temp), F_k)) / h  # Finite difference approximation\n",
    "        \n",
    "        try:\n",
    "            s_k = -np.linalg.solve(J, F_k)\n",
    "        except np.linalg.LinAlgError:\n",
    "            print(\"Jacobian is singular.\")\n",
    "            break\n",
    "        x_k += s_k\n",
    "        if (np.linalg.norm(F_k) < tol_f) and (np.linalg.norm(s_k) < tol_s):\n",
    "            break\n",
    "    return x_k"
   ]
  },
  {
   "cell_type": "code",
   "execution_count": 105,
   "metadata": {},
   "outputs": [
    {
     "name": "stdout",
     "output_type": "stream",
     "text": [
      "Ground state solution (Broyden with identity initial): [19.45657686 24.89583553]\n",
      "Excited state solution (Broyden with identity initial): [19.45657686 24.89583553]\n",
      "Ground state solution (Broyden with better initial): [2.38994694 2.55698135]\n",
      "Excited state solution (Broyden with better initial): [-3.31194065  1.1318344 ]\n",
      "Ground state solution (Newton's method): [2.38994694 2.55698135]\n",
      "Excited state solution (Newton's method): [3.31194065 1.1318344 ]\n"
     ]
    }
   ],
   "source": [
    "initial = [2.0, 2.0]\n",
    "better_B0 = np.array([[-3, 1],\n",
    "                      [4, 4]], dtype=float)\n",
    "\n",
    "ground_broyden_better = broyden_method(ground_state, initial, B_0=better_B0)\n",
    "excited_broyden_better = broyden_method(excited_state, initial, B_0=better_B0)\n",
    "\n",
    "ground_broyden_id = broyden_method(ground_state, initial, B_0=np.eye(2))\n",
    "excited_broyden_id = broyden_method(excited_state, initial, B_0=np.eye(2))\n",
    "\n",
    "ground_state_newton = newton_method(ground_state, initial)\n",
    "excited_state_newton = newton_method(excited_state, initial)\n",
    "\n",
    "print(\"Ground state solution (Broyden with identity initial):\", ground_broyden_id)\n",
    "print(\"Excited state solution (Broyden with identity initial):\", ground_broyden_id)\n",
    "print(\"Ground state solution (Broyden with better initial):\", ground_broyden_better)\n",
    "print(\"Excited state solution (Broyden with better initial):\", excited_broyden_better)\n",
    "print(\"Ground state solution (Newton's method):\", ground_state_newton)\n",
    "print(\"Excited state solution (Newton's method):\", excited_state_newton)"
   ]
  }
 ],
 "metadata": {
  "kernelspec": {
   "display_name": "cuda",
   "language": "python",
   "name": "python3"
  },
  "language_info": {
   "codemirror_mode": {
    "name": "ipython",
    "version": 3
   },
   "file_extension": ".py",
   "mimetype": "text/x-python",
   "name": "python",
   "nbconvert_exporter": "python",
   "pygments_lexer": "ipython3",
   "version": "3.10.15"
  }
 },
 "nbformat": 4,
 "nbformat_minor": 2
}
