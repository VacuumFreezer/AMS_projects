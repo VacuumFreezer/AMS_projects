{
 "cells": [
  {
   "cell_type": "code",
   "execution_count": 16,
   "metadata": {},
   "outputs": [],
   "source": [
    "import numpy as np\n",
    "import matplotlib.pyplot as plt\n",
    "import ipywidgets as widgets\n",
    "from ipywidgets import interact"
   ]
  },
  {
   "cell_type": "code",
   "execution_count": 17,
   "metadata": {},
   "outputs": [],
   "source": [
    "x_min = -5.0\n",
    "x_max = 15.0\n",
    "\n",
    "N = 500\n",
    "t_max = 10.0\n",
    "a = 1.0"
   ]
  },
  {
   "cell_type": "code",
   "execution_count": 18,
   "metadata": {},
   "outputs": [],
   "source": [
    "def FTCS(nu:np.double):\n",
    "\n",
    "    dx = (x_max - x_min) / (N-1)\n",
    "    dt = min( (0.75 * (dx**2)) / (2*nu), (0.75*dx)/a )   \n",
    "\n",
    "    # Initial condition\n",
    "    x = np.linspace(x_min, x_max, N)\n",
    "    u_max = 10\n",
    "    u = u_max * np.exp(-x*x*100)\n",
    "\n",
    "    t = 0.0\n",
    "    while t < t_max:\n",
    "\n",
    "        if t > t_max - dt:\n",
    "            dt = t_max - t\n",
    "        t = t + dt\n",
    "\n",
    "        u_cache = u.copy()\n",
    " \n",
    "        # Periodic Boundary condition\n",
    "        u_cache[0] = u[0] - (a*dt)/(2*dx) * (u[1] - u[-2]) + (nu*dt)/(dx**2) * (u[1] - 2 * u[0] + u[-2])\n",
    "        u_cache[-1] = u_cache[0]\n",
    "        for i in range(1, N-1):\n",
    "            # FTCS scheme\n",
    "            u_cache[i] = u[i] - (a*dt)/(2*dx) * (u[i+1] - u[i-1]) + (nu*dt)/(dx**2) * (u[i+1] - 2 * u[i] + u[i-1])\n",
    "        u = u_cache\n",
    "\n",
    "    return u"
   ]
  },
  {
   "cell_type": "code",
   "execution_count": 19,
   "metadata": {},
   "outputs": [],
   "source": [
    "def upwind(nu:np.double):\n",
    "    dx = (x_max - x_min) / (N-1)\n",
    "    dt = min( (0.75 * (dx**2)) / (2*nu), (0.75*dx)/a )   \n",
    "\n",
    "    # Initial condition\n",
    "    x = np.linspace(x_min, x_max, N)\n",
    "    u_max = 10\n",
    "    u = u_max * np.exp(-x*x*100)\n",
    "\n",
    "    t = 0.0\n",
    "    while t < t_max:\n",
    "\n",
    "        if t > t_max - dt:\n",
    "            dt = t_max - t\n",
    "        t = t + dt\n",
    "\n",
    "        u_cache = u.copy()\n",
    "        u_cache[0] = u[0] - (a*dt)/dx * (u[0] - u[-2]) + (nu*dt)/(dx**2) * (u[1] - 2 * u[0] + u[-2])\n",
    "        u_cache[-1] = u_cache[0]\n",
    "        for i in range(1, N-1):\n",
    "            # FTBS scheme\n",
    "            u_cache[i] = u[i] - (a*dt)/dx * (u[i] - u[i-1]) + (nu*dt)/(dx**2) * (u[i+1] - 2 * u[i] + u[i-1])\n",
    "        u = u_cache\n",
    "\n",
    "    return u"
   ]
  },
  {
   "cell_type": "code",
   "execution_count": 20,
   "metadata": {},
   "outputs": [],
   "source": [
    "x_test = np.linspace(x_min, x_max, N)"
   ]
  },
  {
   "cell_type": "code",
   "execution_count": 30,
   "metadata": {},
   "outputs": [
    {
     "data": {
      "application/vnd.jupyter.widget-view+json": {
       "model_id": "22adb72d60704291a2e04531b1a2c56a",
       "version_major": 2,
       "version_minor": 0
      },
      "text/plain": [
       "interactive(children=(FloatSlider(value=0.05, description='Coefficient', max=0.05, min=0.001, readout_format='…"
      ]
     },
     "metadata": {},
     "output_type": "display_data"
    },
    {
     "data": {
      "text/plain": [
       "<function __main__.draw(param)>"
      ]
     },
     "execution_count": 30,
     "metadata": {},
     "output_type": "execute_result"
    }
   ],
   "source": [
    "def draw(param):\n",
    "    FTCS_sol = FTCS(param)\n",
    "    upwind_sol = upwind(param)\n",
    "\n",
    "    fig, axes = plt.subplots(1, 2, figsize=(12,5))\n",
    "    axes[0].plot(x_test, FTCS_sol, '-')\n",
    "    axes[0].set_title(\"FTCS scheme\")\n",
    "    axes[0].set_xlabel(\"x\")\n",
    "    axes[0].set_ylabel(\"v(x,t)\")\n",
    "\n",
    "    axes[1].plot(x_test, upwind_sol, '-')\n",
    "    axes[1].set_title(\"FTBS scheme\")\n",
    "    axes[1].set_xlabel(\"x\")\n",
    "    axes[1].set_ylabel(\"v(x,t)\")\n",
    "\n",
    "    plt.tight_layout()\n",
    "    plt.show()\n",
    "\n",
    "param_slider = widgets.FloatSlider(value=0.05, min=0.001, max=0.05, step=0.001, description=\"Coefficient\",\n",
    "                                   readout_format='.3f', style={'description_width': 'initial'})\n",
    "\n",
    "interact(draw, param=param_slider)"
   ]
  },
  {
   "cell_type": "markdown",
   "metadata": {},
   "source": [
    "We observe that FTCS scheme breaks when coefficient is about 0.016 and below. Upwind FTBS scheme breaks when coefficient is larger than 0.007, and indeed the ability of the scheme for small diffusion coefficient.\n",
    "\n",
    "We can compute the symbol of FTCS scheme is \n",
    "\n",
    "$1-4r \\sin^2(\\frac{\\xi}{2})-i*2s \\sin(\\xi)$,\n",
    "\n",
    "where $s=\\frac{adt}{2dx}=0.375$, $r=\\frac{\\nu dt}{dx^2}=18.75\\nu$ \n",
    "For small r this norm will be larger than 1, causing unstability. For $\\nu$ larger than 0.02 the min step for $\\Delta t$ ensures there's no r larger than 0.375.\n",
    "\n",
    "The symbol of upwind scheme is \n",
    "\n",
    "$1-4(r+s) \\sin^2(\\frac{\\xi}{2})-i*2s \\sin(\\xi)$,\n",
    "\n",
    "since there exists a large s in the real part, only very small r can have stable scheme."
   ]
  }
 ],
 "metadata": {
  "kernelspec": {
   "display_name": "cuda",
   "language": "python",
   "name": "python3"
  },
  "language_info": {
   "codemirror_mode": {
    "name": "ipython",
    "version": 3
   },
   "file_extension": ".py",
   "mimetype": "text/x-python",
   "name": "python",
   "nbconvert_exporter": "python",
   "pygments_lexer": "ipython3",
   "version": "3.10.15"
  }
 },
 "nbformat": 4,
 "nbformat_minor": 2
}
