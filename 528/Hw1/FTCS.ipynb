{
 "cells": [
  {
   "cell_type": "code",
   "execution_count": 393,
   "metadata": {},
   "outputs": [],
   "source": [
    "import numpy as np\n",
    "import matplotlib.pyplot as plt\n",
    "import pandas as pd"
   ]
  },
  {
   "cell_type": "code",
   "execution_count": 394,
   "metadata": {},
   "outputs": [],
   "source": [
    "x_min = -np.pi / 2\n",
    "x_max = np.pi / 2\n",
    "\n",
    "t_max = 0.15"
   ]
  },
  {
   "cell_type": "code",
   "execution_count": 395,
   "metadata": {},
   "outputs": [],
   "source": [
    "def FTCS(ratio:float, N:int):\n",
    "\n",
    "    x = np.linspace(x_min, x_max, N)\n",
    "    dx = x[1] - x[0]\n",
    "    dt = (dx**2) / ratio\n",
    "    # Initial condition\n",
    "    u = np.cos(3.0*x)\n",
    "\n",
    "    # Boundary condition\n",
    "    u[0] = u[-1] = 0\n",
    "\n",
    "    t = 0.0\n",
    "    while t < t_max:\n",
    "        \n",
    "        if t > (t_max - dt):\n",
    "            # This step ensures that the final step updates exactly to t_max\n",
    "            dt = t_max - t\n",
    "        t = t + dt\n",
    "        \n",
    "        r = dt / (dx**2)\n",
    "        u_cache = u.copy()\n",
    "        for i in range(1, N-1):\n",
    "            # FTCS scheme\n",
    "            u_cache[i] = u[i] + r * (u[i+1] - 2 * u[i] + u[i-1])\n",
    "        u = u_cache\n",
    "    \n",
    "    # To compare with exactly solution at a given time, exact solution must be calculated directly from this given time\n",
    "    v = np.exp(-9.0 * t_max) * np.cos(3.0 * x)\n",
    "    error = np.abs(u - v)\n",
    "    L2_norm = np.sqrt(np.sum(error**2) * dx)\n",
    "    Linf_norm = np.max(error)\n",
    "\n",
    "    return u, v, dx, L2_norm, Linf_norm"
   ]
  },
  {
   "cell_type": "code",
   "execution_count": 396,
   "metadata": {},
   "outputs": [],
   "source": [
    "N_list = [50, 100, 200, 400]\n",
    "result = []\n",
    "for N in N_list:\n",
    "    _, _, dx, L2_error, Linf_error = FTCS(2.0, N)\n",
    "    result.append([N, dx, L2_error, Linf_error])"
   ]
  },
  {
   "cell_type": "code",
   "execution_count": 397,
   "metadata": {},
   "outputs": [],
   "source": [
    "df_2 = pd.DataFrame(result, columns=[\"N\", \"dx\", \"L_2 error\", \"L_inf order\"])"
   ]
  },
  {
   "cell_type": "code",
   "execution_count": 398,
   "metadata": {},
   "outputs": [],
   "source": [
    "L2_order = []\n",
    "Linf_order = []\n",
    "for i in range(1, 4):\n",
    "    L2 = np.log2(result[i][2] / result[i-1][2]) / np.log2(result[i][1] / result[i-1][1])\n",
    "    Linf = np.log2(result[i][3] / result[i-1][3]) / np.log2(result[i][1] / result[i-1][1])\n",
    "    L2_order.append(L2)\n",
    "    Linf_order.append(Linf)\n",
    "\n",
    "L2_order.insert(0, 'NA')\n",
    "Linf_order.insert(0, 'NA')\n",
    "df_2.insert(loc=3, column='L_2 Convergence order', value=L2_order)\n",
    "df_2.insert(loc=5, column='L_inf Convergence order', value=Linf_order)"
   ]
  },
  {
   "cell_type": "code",
   "execution_count": 399,
   "metadata": {},
   "outputs": [
    {
     "name": "stdout",
     "output_type": "stream",
     "text": [
      "     N        dx  L_2 error L_2 Convergence order  L_inf order  \\\n",
      "0   50  0.064114   0.002719                    NA     0.002168   \n",
      "1  100  0.031733   0.000663              2.006186     0.000529   \n",
      "2  200  0.015787   0.000164                2.0013     0.000131   \n",
      "3  400  0.007874   0.000041              2.000068     0.000033   \n",
      "\n",
      "  L_inf Convergence order  \n",
      "0                      NA  \n",
      "1                2.007066  \n",
      "2                1.999721  \n",
      "3                2.000123  \n"
     ]
    }
   ],
   "source": [
    "print(df_2)"
   ]
  },
  {
   "cell_type": "code",
   "execution_count": 400,
   "metadata": {},
   "outputs": [],
   "source": [
    "result = []\n",
    "for N in N_list:\n",
    "    _, _, dx, L2_error, Linf_error = FTCS(6.0, N)\n",
    "    result.append([N, dx, L2_error, Linf_error])"
   ]
  },
  {
   "cell_type": "code",
   "execution_count": 401,
   "metadata": {},
   "outputs": [],
   "source": [
    "df_6 = pd.DataFrame(result, columns=[\"N\", \"dx\", \"L_2 error\", \"L_inf order\"])"
   ]
  },
  {
   "cell_type": "code",
   "execution_count": 402,
   "metadata": {},
   "outputs": [],
   "source": [
    "L2_order = []\n",
    "Linf_order = []\n",
    "for i in range(1, 4):\n",
    "    L2 = np.log2(result[i][2] / result[i-1][2]) / np.log2(result[i][1] / result[i-1][1])\n",
    "    Linf = np.log2(result[i][3] / result[i-1][3]) / np.log2(result[i][1] / result[i-1][1])\n",
    "    L2_order.append(L2)\n",
    "    Linf_order.append(Linf)\n",
    "\n",
    "L2_order.insert(0, 'NA')\n",
    "Linf_order.insert(0, 'NA')\n",
    "df_6.insert(loc=3, column='L_2 Convergence order', value=L2_order)\n",
    "df_6.insert(loc=5, column='L_inf Convergence order', value=Linf_order)"
   ]
  },
  {
   "cell_type": "code",
   "execution_count": 403,
   "metadata": {},
   "outputs": [
    {
     "name": "stdout",
     "output_type": "stream",
     "text": [
      "     N        dx     L_2 error L_2 Convergence order   L_inf order  \\\n",
      "0   50  0.064114  1.437320e-06                    NA  1.146226e-06   \n",
      "1  100  0.031733  1.373817e-07              3.338225  1.094906e-07   \n",
      "2  200  0.015787  7.411777e-09              4.181833  5.913558e-09   \n",
      "3  400  0.007874  5.871646e-10              3.644787  4.684562e-10   \n",
      "\n",
      "  L_inf Convergence order  \n",
      "0                      NA  \n",
      "1                3.339106  \n",
      "2                4.180254  \n",
      "3                3.644845  \n"
     ]
    }
   ],
   "source": [
    "print(df_6)"
   ]
  },
  {
   "cell_type": "markdown",
   "metadata": {},
   "source": [
    "## Explanation of the result\n",
    "\n",
    "When $dt=dx^2/2$, we get the expected result that the convergence order is 2. Since the $O(\\Delta x^2)$ term in the truncation error is \n",
    "\n",
    "$\\frac{1}{2}v_{tt}\\Delta t - \\frac{1}{12} v_{xxxx} \\Delta x^2$,\n",
    "\n",
    "when $dt=dx^2/6$, this term also vanish, thus give $O(\\Delta x^4)$ accuracy.\n",
    "However, the order is not exactly 4, and when I discard the if condition and $dt=t_{max}-t$ step, at the same time calculate the exact solution with t from the last step, the order will be closer to 4. Firstly, this step is necessary because in reality we shouldn't calculate from the last t instead of a given t_max. Secondly, this finding suggests that even we ensures we are comparing numerical and exact solutions at the same time, the step size of the last step matters. If we modify the last time step, the relation $dt=dx^2/6$ is not satisfied at the last step, resulting in a truncation error slightly larger than \n",
    "$O(\\Delta x^4)$ but still significantly better than $O(\\Delta x^2)$."
   ]
  }
 ],
 "metadata": {
  "kernelspec": {
   "display_name": "cuda",
   "language": "python",
   "name": "python3"
  },
  "language_info": {
   "codemirror_mode": {
    "name": "ipython",
    "version": 3
   },
   "file_extension": ".py",
   "mimetype": "text/x-python",
   "name": "python",
   "nbconvert_exporter": "python",
   "pygments_lexer": "ipython3",
   "version": "3.10.15"
  }
 },
 "nbformat": 4,
 "nbformat_minor": 2
}
